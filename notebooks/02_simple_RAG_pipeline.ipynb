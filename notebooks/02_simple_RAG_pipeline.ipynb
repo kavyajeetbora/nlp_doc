{
  "nbformat": 4,
  "nbformat_minor": 0,
  "metadata": {
    "colab": {
      "provenance": [],
      "gpuType": "T4",
      "authorship_tag": "ABX9TyPhRBcAG+ByF4xrEg6zs2y6",
      "include_colab_link": true
    },
    "kernelspec": {
      "name": "python3",
      "display_name": "Python 3"
    },
    "language_info": {
      "name": "python"
    },
    "accelerator": "GPU"
  },
  "cells": [
    {
      "cell_type": "markdown",
      "metadata": {
        "id": "view-in-github",
        "colab_type": "text"
      },
      "source": [
        "<a href=\"https://colab.research.google.com/github/kavyajeetbora/nlp_doc/blob/master/notebooks/02_simple_RAG_pipeline.ipynb\" target=\"_parent\"><img src=\"https://colab.research.google.com/assets/colab-badge.svg\" alt=\"Open In Colab\"/></a>"
      ]
    },
    {
      "cell_type": "code",
      "source": [
        "# The URL of the PDF you want to download\n",
        "!wget \"https://pressbooks.oer.hawaii.edu/humannutrition2/open/download?type=pdf\" -O \"Human Nutrition.pdf\"\n",
        "\n",
        "# Download the embeddings of the pdf\n",
        "!wget https://github.com/kavyajeetbora/nlp_doc/raw/master/data/doc_embeddings.parquet -O \"doc_embeddings.parquet\""
      ],
      "metadata": {
        "colab": {
          "base_uri": "https://localhost:8080/"
        },
        "id": "guDP5VqStI-K",
        "outputId": "b5c38083-ca74-4c89-f40f-01207adb83e5"
      },
      "execution_count": 21,
      "outputs": [
        {
          "output_type": "stream",
          "name": "stdout",
          "text": [
            "--2024-04-15 06:35:02--  https://pressbooks.oer.hawaii.edu/humannutrition2/open/download?type=pdf\n",
            "Resolving pressbooks.oer.hawaii.edu (pressbooks.oer.hawaii.edu)... 128.171.43.156\n",
            "Connecting to pressbooks.oer.hawaii.edu (pressbooks.oer.hawaii.edu)|128.171.43.156|:443... connected.\n",
            "HTTP request sent, awaiting response... 200 OK\n",
            "Length: 26891229 (26M) [application/pdf]\n",
            "Saving to: ‘Human Nutrition.pdf’\n",
            "\n",
            "Human Nutrition.pdf 100%[===================>]  25.64M  14.6MB/s    in 1.8s    \n",
            "\n",
            "2024-04-15 06:35:04 (14.6 MB/s) - ‘Human Nutrition.pdf’ saved [26891229/26891229]\n",
            "\n",
            "--2024-04-15 06:35:04--  https://github.com/kavyajeetbora/nlp_doc/raw/master/data/doc_embeddings.parquet\n",
            "Resolving github.com (github.com)... 140.82.114.4\n",
            "Connecting to github.com (github.com)|140.82.114.4|:443... connected.\n",
            "HTTP request sent, awaiting response... 302 Found\n",
            "Location: https://raw.githubusercontent.com/kavyajeetbora/nlp_doc/master/data/doc_embeddings.parquet [following]\n",
            "--2024-04-15 06:35:05--  https://raw.githubusercontent.com/kavyajeetbora/nlp_doc/master/data/doc_embeddings.parquet\n",
            "Resolving raw.githubusercontent.com (raw.githubusercontent.com)... 185.199.109.133, 185.199.111.133, 185.199.110.133, ...\n",
            "Connecting to raw.githubusercontent.com (raw.githubusercontent.com)|185.199.109.133|:443... connected.\n",
            "HTTP request sent, awaiting response... 200 OK\n",
            "Length: 3922167 (3.7M) [application/octet-stream]\n",
            "Saving to: ‘doc_embeddings.parquet’\n",
            "\n",
            "doc_embeddings.parq 100%[===================>]   3.74M  --.-KB/s    in 0.07s   \n",
            "\n",
            "2024-04-15 06:35:05 (53.4 MB/s) - ‘doc_embeddings.parquet’ saved [3922167/3922167]\n",
            "\n"
          ]
        }
      ]
    },
    {
      "cell_type": "code",
      "source": [
        "!pip install -U -q sentence_transformers\n",
        "import pandas as pd\n",
        "import numpy as np\n",
        "import matplotlib.pyplot as plt\n",
        "import torch\n",
        "from sentence_transformers import SentenceTransformer, util\n",
        "import textwrap\n",
        "!pip install -q PyMuPDF\n",
        "import fitz ## import PyMuPDF\n",
        "\n",
        "device = 'cuda' if torch.cuda.is_available() else 'cpu'\n",
        "device"
      ],
      "metadata": {
        "id": "zmXOkNIg6YLA",
        "outputId": "e07ccff7-c29f-4fd0-9832-064443598fb5",
        "colab": {
          "base_uri": "https://localhost:8080/"
        }
      },
      "execution_count": 2,
      "outputs": [
        {
          "output_type": "stream",
          "name": "stdout",
          "text": [
            "\u001b[?25l     \u001b[90m━━━━━━━━━━━━━━━━━━━━━━━━━━━━━━━━━━━━━━━━\u001b[0m \u001b[32m0.0/163.3 kB\u001b[0m \u001b[31m?\u001b[0m eta \u001b[36m-:--:--\u001b[0m\r\u001b[2K     \u001b[91m━━━━━━━\u001b[0m\u001b[91m╸\u001b[0m\u001b[90m━━━━━━━━━━━━━━━━━━━━━━━━━━━━━━━━\u001b[0m \u001b[32m30.7/163.3 kB\u001b[0m \u001b[31m1.1 MB/s\u001b[0m eta \u001b[36m0:00:01\u001b[0m\r\u001b[2K     \u001b[91m━━━━━━━━━━━━━━━━━━━━━━\u001b[0m\u001b[91m╸\u001b[0m\u001b[90m━━━━━━━━━━━━━━━━━\u001b[0m \u001b[32m92.2/163.3 kB\u001b[0m \u001b[31m1.4 MB/s\u001b[0m eta \u001b[36m0:00:01\u001b[0m\r\u001b[2K     \u001b[90m━━━━━━━━━━━━━━━━━━━━━━━━━━━━━━━━━━━━━━━━\u001b[0m \u001b[32m163.3/163.3 kB\u001b[0m \u001b[31m1.6 MB/s\u001b[0m eta \u001b[36m0:00:00\u001b[0m\n",
            "\u001b[?25h"
          ]
        }
      ]
    },
    {
      "cell_type": "code",
      "execution_count": 7,
      "metadata": {
        "colab": {
          "base_uri": "https://localhost:8080/",
          "height": 521
        },
        "id": "BOuLl56ktCpX",
        "outputId": "ba70bf44-14a7-4a64-9551-864b18d83f91"
      },
      "outputs": [
        {
          "output_type": "execute_result",
          "data": {
            "text/plain": [
              "      page_number                                     sentence_chunk  \\\n",
              "1112          792  This is partly due to an increase in metabolis...   \n",
              "523           347  through food. Genetic factors may also influen...   \n",
              "1055          751  http:/ /www.cnpp.usda.gov/healthyeatingindex.h...   \n",
              "1410          995  lead to symptoms that are also common to food ...   \n",
              "747           508  Americans to eat healthy and be active by brin...   \n",
              "\n",
              "      chunk_char_count  chunk word count  chunk_token_count  \\\n",
              "1112               536                82             134.00   \n",
              "523               1053               160             263.25   \n",
              "1055               123                14              30.75   \n",
              "1410              1051               160             262.75   \n",
              "747               1557               239             389.25   \n",
              "\n",
              "                                              embedding  \n",
              "1112  [-0.025120208, -0.018740341, -0.044263523, 0.0...  \n",
              "523   [-0.023104914, -0.052891638, -0.034369294, 0.0...  \n",
              "1055  [0.0006857966, 0.056924086, 0.05724726, 0.0488...  \n",
              "1410  [0.072255544, -0.033986077, 0.07330872, 0.0363...  \n",
              "747   [-0.033343244, 0.10324867, 0.04194529, 0.08794...  "
            ],
            "text/html": [
              "\n",
              "  <div id=\"df-bc635cd1-3d2d-4a57-818c-677bb9915ec7\" class=\"colab-df-container\">\n",
              "    <div>\n",
              "<style scoped>\n",
              "    .dataframe tbody tr th:only-of-type {\n",
              "        vertical-align: middle;\n",
              "    }\n",
              "\n",
              "    .dataframe tbody tr th {\n",
              "        vertical-align: top;\n",
              "    }\n",
              "\n",
              "    .dataframe thead th {\n",
              "        text-align: right;\n",
              "    }\n",
              "</style>\n",
              "<table border=\"1\" class=\"dataframe\">\n",
              "  <thead>\n",
              "    <tr style=\"text-align: right;\">\n",
              "      <th></th>\n",
              "      <th>page_number</th>\n",
              "      <th>sentence_chunk</th>\n",
              "      <th>chunk_char_count</th>\n",
              "      <th>chunk word count</th>\n",
              "      <th>chunk_token_count</th>\n",
              "      <th>embedding</th>\n",
              "    </tr>\n",
              "  </thead>\n",
              "  <tbody>\n",
              "    <tr>\n",
              "      <th>1112</th>\n",
              "      <td>792</td>\n",
              "      <td>This is partly due to an increase in metabolis...</td>\n",
              "      <td>536</td>\n",
              "      <td>82</td>\n",
              "      <td>134.00</td>\n",
              "      <td>[-0.025120208, -0.018740341, -0.044263523, 0.0...</td>\n",
              "    </tr>\n",
              "    <tr>\n",
              "      <th>523</th>\n",
              "      <td>347</td>\n",
              "      <td>through food. Genetic factors may also influen...</td>\n",
              "      <td>1053</td>\n",
              "      <td>160</td>\n",
              "      <td>263.25</td>\n",
              "      <td>[-0.023104914, -0.052891638, -0.034369294, 0.0...</td>\n",
              "    </tr>\n",
              "    <tr>\n",
              "      <th>1055</th>\n",
              "      <td>751</td>\n",
              "      <td>http:/ /www.cnpp.usda.gov/healthyeatingindex.h...</td>\n",
              "      <td>123</td>\n",
              "      <td>14</td>\n",
              "      <td>30.75</td>\n",
              "      <td>[0.0006857966, 0.056924086, 0.05724726, 0.0488...</td>\n",
              "    </tr>\n",
              "    <tr>\n",
              "      <th>1410</th>\n",
              "      <td>995</td>\n",
              "      <td>lead to symptoms that are also common to food ...</td>\n",
              "      <td>1051</td>\n",
              "      <td>160</td>\n",
              "      <td>262.75</td>\n",
              "      <td>[0.072255544, -0.033986077, 0.07330872, 0.0363...</td>\n",
              "    </tr>\n",
              "    <tr>\n",
              "      <th>747</th>\n",
              "      <td>508</td>\n",
              "      <td>Americans to eat healthy and be active by brin...</td>\n",
              "      <td>1557</td>\n",
              "      <td>239</td>\n",
              "      <td>389.25</td>\n",
              "      <td>[-0.033343244, 0.10324867, 0.04194529, 0.08794...</td>\n",
              "    </tr>\n",
              "  </tbody>\n",
              "</table>\n",
              "</div>\n",
              "    <div class=\"colab-df-buttons\">\n",
              "\n",
              "  <div class=\"colab-df-container\">\n",
              "    <button class=\"colab-df-convert\" onclick=\"convertToInteractive('df-bc635cd1-3d2d-4a57-818c-677bb9915ec7')\"\n",
              "            title=\"Convert this dataframe to an interactive table.\"\n",
              "            style=\"display:none;\">\n",
              "\n",
              "  <svg xmlns=\"http://www.w3.org/2000/svg\" height=\"24px\" viewBox=\"0 -960 960 960\">\n",
              "    <path d=\"M120-120v-720h720v720H120Zm60-500h600v-160H180v160Zm220 220h160v-160H400v160Zm0 220h160v-160H400v160ZM180-400h160v-160H180v160Zm440 0h160v-160H620v160ZM180-180h160v-160H180v160Zm440 0h160v-160H620v160Z\"/>\n",
              "  </svg>\n",
              "    </button>\n",
              "\n",
              "  <style>\n",
              "    .colab-df-container {\n",
              "      display:flex;\n",
              "      gap: 12px;\n",
              "    }\n",
              "\n",
              "    .colab-df-convert {\n",
              "      background-color: #E8F0FE;\n",
              "      border: none;\n",
              "      border-radius: 50%;\n",
              "      cursor: pointer;\n",
              "      display: none;\n",
              "      fill: #1967D2;\n",
              "      height: 32px;\n",
              "      padding: 0 0 0 0;\n",
              "      width: 32px;\n",
              "    }\n",
              "\n",
              "    .colab-df-convert:hover {\n",
              "      background-color: #E2EBFA;\n",
              "      box-shadow: 0px 1px 2px rgba(60, 64, 67, 0.3), 0px 1px 3px 1px rgba(60, 64, 67, 0.15);\n",
              "      fill: #174EA6;\n",
              "    }\n",
              "\n",
              "    .colab-df-buttons div {\n",
              "      margin-bottom: 4px;\n",
              "    }\n",
              "\n",
              "    [theme=dark] .colab-df-convert {\n",
              "      background-color: #3B4455;\n",
              "      fill: #D2E3FC;\n",
              "    }\n",
              "\n",
              "    [theme=dark] .colab-df-convert:hover {\n",
              "      background-color: #434B5C;\n",
              "      box-shadow: 0px 1px 3px 1px rgba(0, 0, 0, 0.15);\n",
              "      filter: drop-shadow(0px 1px 2px rgba(0, 0, 0, 0.3));\n",
              "      fill: #FFFFFF;\n",
              "    }\n",
              "  </style>\n",
              "\n",
              "    <script>\n",
              "      const buttonEl =\n",
              "        document.querySelector('#df-bc635cd1-3d2d-4a57-818c-677bb9915ec7 button.colab-df-convert');\n",
              "      buttonEl.style.display =\n",
              "        google.colab.kernel.accessAllowed ? 'block' : 'none';\n",
              "\n",
              "      async function convertToInteractive(key) {\n",
              "        const element = document.querySelector('#df-bc635cd1-3d2d-4a57-818c-677bb9915ec7');\n",
              "        const dataTable =\n",
              "          await google.colab.kernel.invokeFunction('convertToInteractive',\n",
              "                                                    [key], {});\n",
              "        if (!dataTable) return;\n",
              "\n",
              "        const docLinkHtml = 'Like what you see? Visit the ' +\n",
              "          '<a target=\"_blank\" href=https://colab.research.google.com/notebooks/data_table.ipynb>data table notebook</a>'\n",
              "          + ' to learn more about interactive tables.';\n",
              "        element.innerHTML = '';\n",
              "        dataTable['output_type'] = 'display_data';\n",
              "        await google.colab.output.renderOutput(dataTable, element);\n",
              "        const docLink = document.createElement('div');\n",
              "        docLink.innerHTML = docLinkHtml;\n",
              "        element.appendChild(docLink);\n",
              "      }\n",
              "    </script>\n",
              "  </div>\n",
              "\n",
              "\n",
              "<div id=\"df-26960ae1-85f4-4384-b74e-11749ffb4867\">\n",
              "  <button class=\"colab-df-quickchart\" onclick=\"quickchart('df-26960ae1-85f4-4384-b74e-11749ffb4867')\"\n",
              "            title=\"Suggest charts\"\n",
              "            style=\"display:none;\">\n",
              "\n",
              "<svg xmlns=\"http://www.w3.org/2000/svg\" height=\"24px\"viewBox=\"0 0 24 24\"\n",
              "     width=\"24px\">\n",
              "    <g>\n",
              "        <path d=\"M19 3H5c-1.1 0-2 .9-2 2v14c0 1.1.9 2 2 2h14c1.1 0 2-.9 2-2V5c0-1.1-.9-2-2-2zM9 17H7v-7h2v7zm4 0h-2V7h2v10zm4 0h-2v-4h2v4z\"/>\n",
              "    </g>\n",
              "</svg>\n",
              "  </button>\n",
              "\n",
              "<style>\n",
              "  .colab-df-quickchart {\n",
              "      --bg-color: #E8F0FE;\n",
              "      --fill-color: #1967D2;\n",
              "      --hover-bg-color: #E2EBFA;\n",
              "      --hover-fill-color: #174EA6;\n",
              "      --disabled-fill-color: #AAA;\n",
              "      --disabled-bg-color: #DDD;\n",
              "  }\n",
              "\n",
              "  [theme=dark] .colab-df-quickchart {\n",
              "      --bg-color: #3B4455;\n",
              "      --fill-color: #D2E3FC;\n",
              "      --hover-bg-color: #434B5C;\n",
              "      --hover-fill-color: #FFFFFF;\n",
              "      --disabled-bg-color: #3B4455;\n",
              "      --disabled-fill-color: #666;\n",
              "  }\n",
              "\n",
              "  .colab-df-quickchart {\n",
              "    background-color: var(--bg-color);\n",
              "    border: none;\n",
              "    border-radius: 50%;\n",
              "    cursor: pointer;\n",
              "    display: none;\n",
              "    fill: var(--fill-color);\n",
              "    height: 32px;\n",
              "    padding: 0;\n",
              "    width: 32px;\n",
              "  }\n",
              "\n",
              "  .colab-df-quickchart:hover {\n",
              "    background-color: var(--hover-bg-color);\n",
              "    box-shadow: 0 1px 2px rgba(60, 64, 67, 0.3), 0 1px 3px 1px rgba(60, 64, 67, 0.15);\n",
              "    fill: var(--button-hover-fill-color);\n",
              "  }\n",
              "\n",
              "  .colab-df-quickchart-complete:disabled,\n",
              "  .colab-df-quickchart-complete:disabled:hover {\n",
              "    background-color: var(--disabled-bg-color);\n",
              "    fill: var(--disabled-fill-color);\n",
              "    box-shadow: none;\n",
              "  }\n",
              "\n",
              "  .colab-df-spinner {\n",
              "    border: 2px solid var(--fill-color);\n",
              "    border-color: transparent;\n",
              "    border-bottom-color: var(--fill-color);\n",
              "    animation:\n",
              "      spin 1s steps(1) infinite;\n",
              "  }\n",
              "\n",
              "  @keyframes spin {\n",
              "    0% {\n",
              "      border-color: transparent;\n",
              "      border-bottom-color: var(--fill-color);\n",
              "      border-left-color: var(--fill-color);\n",
              "    }\n",
              "    20% {\n",
              "      border-color: transparent;\n",
              "      border-left-color: var(--fill-color);\n",
              "      border-top-color: var(--fill-color);\n",
              "    }\n",
              "    30% {\n",
              "      border-color: transparent;\n",
              "      border-left-color: var(--fill-color);\n",
              "      border-top-color: var(--fill-color);\n",
              "      border-right-color: var(--fill-color);\n",
              "    }\n",
              "    40% {\n",
              "      border-color: transparent;\n",
              "      border-right-color: var(--fill-color);\n",
              "      border-top-color: var(--fill-color);\n",
              "    }\n",
              "    60% {\n",
              "      border-color: transparent;\n",
              "      border-right-color: var(--fill-color);\n",
              "    }\n",
              "    80% {\n",
              "      border-color: transparent;\n",
              "      border-right-color: var(--fill-color);\n",
              "      border-bottom-color: var(--fill-color);\n",
              "    }\n",
              "    90% {\n",
              "      border-color: transparent;\n",
              "      border-bottom-color: var(--fill-color);\n",
              "    }\n",
              "  }\n",
              "</style>\n",
              "\n",
              "  <script>\n",
              "    async function quickchart(key) {\n",
              "      const quickchartButtonEl =\n",
              "        document.querySelector('#' + key + ' button');\n",
              "      quickchartButtonEl.disabled = true;  // To prevent multiple clicks.\n",
              "      quickchartButtonEl.classList.add('colab-df-spinner');\n",
              "      try {\n",
              "        const charts = await google.colab.kernel.invokeFunction(\n",
              "            'suggestCharts', [key], {});\n",
              "      } catch (error) {\n",
              "        console.error('Error during call to suggestCharts:', error);\n",
              "      }\n",
              "      quickchartButtonEl.classList.remove('colab-df-spinner');\n",
              "      quickchartButtonEl.classList.add('colab-df-quickchart-complete');\n",
              "    }\n",
              "    (() => {\n",
              "      let quickchartButtonEl =\n",
              "        document.querySelector('#df-26960ae1-85f4-4384-b74e-11749ffb4867 button');\n",
              "      quickchartButtonEl.style.display =\n",
              "        google.colab.kernel.accessAllowed ? 'block' : 'none';\n",
              "    })();\n",
              "  </script>\n",
              "</div>\n",
              "\n",
              "    </div>\n",
              "  </div>\n"
            ],
            "application/vnd.google.colaboratory.intrinsic+json": {
              "type": "dataframe",
              "summary": "{\n  \"name\": \"df\",\n  \"rows\": 5,\n  \"fields\": [\n    {\n      \"column\": \"page_number\",\n      \"properties\": {\n        \"dtype\": \"number\",\n        \"std\": 253,\n        \"min\": 347,\n        \"max\": 995,\n        \"num_unique_values\": 5,\n        \"samples\": [\n          347,\n          508,\n          751\n        ],\n        \"semantic_type\": \"\",\n        \"description\": \"\"\n      }\n    },\n    {\n      \"column\": \"sentence_chunk\",\n      \"properties\": {\n        \"dtype\": \"string\",\n        \"num_unique_values\": 5,\n        \"samples\": [\n          \"through food. Genetic factors may also influence the way a person\\u2019s body modifies cholesterol. The 2015-2020 US Dietary Guidelines suggest limiting saturated fats, thereby indirectly limiting dietary cholesterol since foods that are high in cholesterol tend to be high in saturated fats also. A Prelude to Disease If left unchecked, improper dietary fat consumption can lead down a path to severe health problems. An increased level of lipids, triglycerides, and cholesterol in the blood is called hyperlipidemia. Hyperlipidemia is inclusive of several conditions but more commonly refers to high cholesterol and triglyceride levels. When blood lipid levels are high, any number of adverse health problems may ensue. Consider the following: \\u2022 Cardiovascular disease. According to the AHA, cardiovascular disease encompasses a variety of problems, many of which are related to the process of atherosclerosis. Over time the arteries thicken and harden with plaque buildup, causing restricted or at times low or no blood flow to selected areas of the body.\",\n          \"Americans to eat healthy and be active by bringing together leaders from academia and industry, as well as public-health policy-makers in order to create policies that will reverse the obesity trend and its associated diseases. The \\u201cSmall-Change\\u201d Approach Currently, most people are not obese in this country. The gradual rise in overweight is happening because, on average, people consume slightly more calories daily than they expend, resulting in a gradual weight gain of one to two pounds a year. In 2003 the idea was first published that promoting small lifestyle changes to reduce weight gain occurring over time in all age groups may better reduce obesity rates in the American population.10 Scientific studies have demonstrated that asking people to increase the number of steps they take each day while providing them with pedometers that count the steps they take each day successfully prevented weight gain. A \\u201csmall-changes\\u201d study published in the October 2007 issue of Pediatrics evaluated whether families that made two small lifestyle changes, which were to walk an additional two thousand steps per day and to eliminate 100 kilocalories per day from their typical diet by replacing dietary sugar with a noncaloric sweetener, would prevent weight gain in 10.\\u00a0Hill JO. (2009). Can a Small-Changes Approach Help Address the Obesity Epidemic?A Report of the Joint Task Force of the American Society for Nutrition, Institute of Food Technologists, and International Food Information Council. American Journal of Clinical Nutrition,\\u00a089(2), 477\\u201384.\",\n          \"http:/ /www.cnpp.usda.gov/healthyeatingindex.htm. Updated March 14, 2012. Accessed November 22, 2017. MyPlate Planner | 751\"\n        ],\n        \"semantic_type\": \"\",\n        \"description\": \"\"\n      }\n    },\n    {\n      \"column\": \"chunk_char_count\",\n      \"properties\": {\n        \"dtype\": \"number\",\n        \"std\": 549,\n        \"min\": 123,\n        \"max\": 1557,\n        \"num_unique_values\": 5,\n        \"samples\": [\n          1053,\n          1557,\n          123\n        ],\n        \"semantic_type\": \"\",\n        \"description\": \"\"\n      }\n    },\n    {\n      \"column\": \"chunk word count\",\n      \"properties\": {\n        \"dtype\": \"number\",\n        \"std\": 85,\n        \"min\": 14,\n        \"max\": 239,\n        \"num_unique_values\": 4,\n        \"samples\": [\n          160,\n          239,\n          82\n        ],\n        \"semantic_type\": \"\",\n        \"description\": \"\"\n      }\n    },\n    {\n      \"column\": \"chunk_token_count\",\n      \"properties\": {\n        \"dtype\": \"number\",\n        \"std\": 137.3637961764307,\n        \"min\": 30.75,\n        \"max\": 389.25,\n        \"num_unique_values\": 5,\n        \"samples\": [\n          263.25,\n          389.25,\n          30.75\n        ],\n        \"semantic_type\": \"\",\n        \"description\": \"\"\n      }\n    },\n    {\n      \"column\": \"embedding\",\n      \"properties\": {\n        \"dtype\": \"object\",\n        \"semantic_type\": \"\",\n        \"description\": \"\"\n      }\n    }\n  ]\n}"
            }
          },
          "metadata": {},
          "execution_count": 7
        }
      ],
      "source": [
        "df = pd.read_parquet('doc_embeddings.parquet')\n",
        "df.sample(5)"
      ]
    },
    {
      "cell_type": "code",
      "source": [
        "df.info()"
      ],
      "metadata": {
        "colab": {
          "base_uri": "https://localhost:8080/"
        },
        "id": "0STb5tXwuWHN",
        "outputId": "bee7891f-da26-4b8c-9514-241bea3609d8"
      },
      "execution_count": 4,
      "outputs": [
        {
          "output_type": "stream",
          "name": "stdout",
          "text": [
            "<class 'pandas.core.frame.DataFrame'>\n",
            "RangeIndex: 1680 entries, 0 to 1679\n",
            "Data columns (total 6 columns):\n",
            " #   Column             Non-Null Count  Dtype  \n",
            "---  ------             --------------  -----  \n",
            " 0   page_number        1680 non-null   int64  \n",
            " 1   sentence_chunk     1680 non-null   object \n",
            " 2   chunk_char_count   1680 non-null   int64  \n",
            " 3   chunk word count   1680 non-null   int64  \n",
            " 4   chunk_token_count  1680 non-null   float64\n",
            " 5   embedding          1680 non-null   object \n",
            "dtypes: float64(1), int64(3), object(2)\n",
            "memory usage: 78.9+ KB\n"
          ]
        }
      ]
    },
    {
      "cell_type": "markdown",
      "source": [
        "Since the embeddings are stored as string in the csv file, we need to convert it back to numpy arrays so that we can further use it for processing"
      ],
      "metadata": {
        "id": "yVNM-KQUuYE_"
      }
    },
    {
      "cell_type": "code",
      "source": [
        "df['embedding'].iloc[0].shape"
      ],
      "metadata": {
        "colab": {
          "base_uri": "https://localhost:8080/"
        },
        "id": "DqTgb63muwS9",
        "outputId": "912cf53b-b88e-45a0-906c-9ad56a2d2e94"
      },
      "execution_count": 5,
      "outputs": [
        {
          "output_type": "execute_result",
          "data": {
            "text/plain": [
              "(384,)"
            ]
          },
          "metadata": {},
          "execution_count": 5
        }
      ]
    },
    {
      "cell_type": "markdown",
      "source": [
        "Convert the embeddings to tensor object"
      ],
      "metadata": {
        "id": "CHy7OIBL_UNX"
      }
    },
    {
      "cell_type": "code",
      "source": [
        "a = np.stack(df['embedding'].to_list(), axis=0)\n",
        "embedding  = torch.tensor(a).to(device)\n",
        "print(f\"Data type of the embedding array: {embedding.dtype}\")\n",
        "embedding"
      ],
      "metadata": {
        "id": "kWEDakEv--BE",
        "outputId": "429f2881-c97d-479c-ccc7-1c7ef9f0a0ee",
        "colab": {
          "base_uri": "https://localhost:8080/"
        }
      },
      "execution_count": 13,
      "outputs": [
        {
          "output_type": "stream",
          "name": "stdout",
          "text": [
            "Data type of the embedding array: torch.float32\n"
          ]
        },
        {
          "output_type": "execute_result",
          "data": {
            "text/plain": [
              "tensor([[-1.9507e-02, -1.8256e-02,  7.1660e-04,  ..., -3.9904e-02,\n",
              "         -2.1543e-02, -4.3294e-02],\n",
              "        [ 2.6605e-02,  1.8785e-03, -7.0033e-03,  ..., -2.1591e-02,\n",
              "         -2.1828e-02, -6.9987e-02],\n",
              "        [ 3.4971e-02,  4.0597e-02, -1.9747e-02,  ..., -3.5225e-02,\n",
              "         -3.1397e-02, -4.6613e-02],\n",
              "        ...,\n",
              "        [-3.2258e-02, -2.4768e-02, -1.1571e-02,  ..., -1.3912e-05,\n",
              "          3.9905e-02, -5.2110e-02],\n",
              "        [-8.8627e-02, -6.6496e-02, -1.0430e-01,  ..., -3.0128e-02,\n",
              "          8.4004e-02, -4.2208e-02],\n",
              "        [-1.1203e-01, -4.9535e-02, -2.4897e-02,  ...,  1.2983e-02,\n",
              "          4.6920e-02, -2.8276e-02]], device='cuda:0')"
            ]
          },
          "metadata": {},
          "execution_count": 13
        }
      ]
    },
    {
      "cell_type": "markdown",
      "source": [
        "## Creating a semantic search engine\n",
        "\n",
        "\n",
        "Here we will build a semantic search engine, given a query for example \"Macronutrients\" it will semantically search and return relevant passage\n",
        "\n",
        "\n",
        "**dot product vs consine similarity ?**\n",
        "\n",
        "Think geometrically. Cosine similarity only cares about angle difference, while dot product cares about angle and magnitude. If you normalize your data to have the same magnitude, the two are indistinguishable. Sometimes it is desirable to ignore the magnitude, hence cosine similarity is nice, but if magnitude plays a role, dot product would be better as a similarity measure. Note that neither of them is a \"distance metric\"\n",
        "\n",
        "**when to use cosine and when to choose dot product ?**\n",
        "\n",
        "Use consine similarity when the vectors are not normalized otherwise if they are already done just like in embedding models you can use dot product. Don't use consine similarity when the vectors are already normalized as it consine will perform an additional step in normalizing the vectors.\n"
      ],
      "metadata": {
        "id": "bNM3qNeR72By"
      }
    },
    {
      "cell_type": "code",
      "source": [
        "embedding_model = SentenceTransformer('all-MiniLM-L6-v2', device=device)"
      ],
      "metadata": {
        "id": "xeXKU-DKuhZi"
      },
      "execution_count": 14,
      "outputs": []
    },
    {
      "cell_type": "code",
      "source": [
        "## Encode the query with the same embedding model\n",
        "query = \"Macronutrients\"\n",
        "query_encode = embedding_model.encode(query, convert_to_tensor=True).to(device)\n",
        "\n",
        "## Get similarity scores\n",
        "sim_score = util.dot_score(a=query_encode, b=embedding)"
      ],
      "metadata": {
        "id": "FLtOvwA88PPH"
      },
      "execution_count": 15,
      "outputs": []
    },
    {
      "cell_type": "code",
      "source": [
        "vals, indices = torch.topk(sim_score, k=5)\n",
        "\n",
        "for i,v in zip(indices.flatten(),vals.flatten()):\n",
        "    i,v = i.cpu().numpy(), v.cpu().numpy()\n",
        "    print(f\"Page number: {df.loc[i,'page_number']}\")\n",
        "    wrapped_text = textwrap.fill(df.loc[i, 'sentence_chunk'], 130)\n",
        "    print(f\"Sentence: {wrapped_text}\")\n",
        "    print(f'Similarity score: {v*100:.2f} %')\n",
        "    print(\"-\"*15)"
      ],
      "metadata": {
        "id": "rT_VODqd9Pcb",
        "outputId": "b170d041-f97e-4369-e8bd-b212781369dd",
        "colab": {
          "base_uri": "https://localhost:8080/"
        }
      },
      "execution_count": 20,
      "outputs": [
        {
          "output_type": "stream",
          "name": "stdout",
          "text": [
            "Page number: 5\n",
            "Sentence: Macronutrients Nutrients that are needed in large amounts are called macronutrients. There are three classes of macronutrients:\n",
            "carbohydrates, lipids, and proteins. These can be metabolically processed into cellular energy. The energy from macronutrients\n",
            "comes from their chemical bonds. This chemical energy is converted into cellular energy that is then utilized to perform work,\n",
            "allowing our bodies to conduct their basic functions. A unit of measurement of food energy is the calorie. On nutrition food\n",
            "labels the amount given for “calories” is actually equivalent to each calorie multiplied by one thousand. A kilocalorie (one\n",
            "thousand calories, denoted with a small “c”) is synonymous with the “Calorie” (with a capital “C”) on nutrition food labels. Water\n",
            "is also a macronutrient in the sense that you require a large amount of it, but unlike the other macronutrients, it does not yield\n",
            "calories. Carbohydrates Carbohydrates are molecules composed of carbon, hydrogen, and oxygen.\n",
            "Similarity score: 66.25 %\n",
            "---------------\n",
            "Page number: 910\n",
            "Sentence: Nutrient Adult Males Adult Females Vitamin A (mcg) 900.0 700.0 Vitamin B6 (mg) 1.3 1.3 Vitamin B12  (mcg) 2.4 2.4 Vitamin C (mg)\n",
            "90.0 75.0 Vitamin D (mcg) 5.0 5.0 Vitamin E (mg) 15.0 15.0 Vitamin K(mcg) 120.0 90.0 Calcium (mg) 1,000.0 1,000.0 Folate (mcg)\n",
            "400.0 400.0 Iron (mg) 8.0 18.0 Magnesium (mg)  400.0 310.0 Niacin (mg) 16.0 14.0 Phosphorus (mg) 700.0 700.0 Riboflavin (mg) 1.3\n",
            "1.1 Selenium 55.0 55.0 Thiamin (mg) 1.2 1.1  Zinc (mg) 11.0  8.0 Source: Institute of Medicine.2006. Dietary Reference Intakes:\n",
            "The Essential Guide to Nutrient Requirements. Washington, DC: The National Academies Press.https:/ /doi.org/10.17226/11537.\n",
            "Accessed December 10, 2017. Nutritional Concerns in Young Adulthood There are a number of intake recommendations for young adults.\n",
            "According to the IOM, an adequate intake (AI) of fluids for men is 3.7 liters per day, from both food and liquids. The AI for\n",
            "women 910 | Young Adulthood\n",
            "Similarity score: 58.97 %\n",
            "---------------\n",
            "Page number: 15\n",
            "Sentence: listed on the label, but foods contain many more macronutrients, micronutrients, and other chemicals, like antioxidants, that\n",
            "benefit health. While vitamins, multivitamins, and supplements are a $20 billion industry in the United States, and more than 50\n",
            "percent of Americans purchase and use them daily, there is no consistent evidence that they are better than food in promoting\n",
            "health and preventing disease. Everyday Connection Make a list of some of your favorite foods and visit the “What’s In the Foods\n",
            "You Eat?”search tool provided by the USDA. What are some of the nutrients found in your favorite foods? Food Quality | 15\n",
            "Similarity score: 58.50 %\n",
            "---------------\n",
            "Page number: 8\n",
            "Sentence: Water There is one other nutrient that we must have in large quantities: water. Water does not contain carbon, but is composed of\n",
            "two hydrogens and one oxygen per molecule of water. More than 60 percent of your total body weight is water. Without it, nothing\n",
            "could be transported in or out of the body, chemical reactions would not occur, organs would not be cushioned, and body\n",
            "temperature would fluctuate widely. On average, an adult consumes just over two liters of water per day from food and drink\n",
            "combined. Since water is so critical for life’s basic processes, the amount of water input and output is supremely important, a\n",
            "topic we will explore in detail in Chapter 4. Micronutrients Micronutrients are nutrients required by the body in lesser amounts,\n",
            "but are still essential for carrying out bodily functions. Micronutrients include all the essential minerals and vitamins. There\n",
            "are sixteen essential minerals and thirteen vitamins (See Table 1.1 “Minerals and Their Major Functions” and Table 1.2 “Vitamins\n",
            "and Their Major Functions” for a complete list and their major functions). In contrast to carbohydrates, lipids, and proteins,\n",
            "micronutrients are not sources of energy (calories), but they assist in the process as cofactors or components of enzymes (i.e.,\n",
            "coenzymes).\n",
            "Similarity score: 57.94 %\n",
            "---------------\n",
            "Page number: 298\n",
            "Sentence: These vitamins are best absorbed when combined with foods containing fat. Fats also increase the bioavailability of compounds\n",
            "known as phytochemicals, which are plant constituents such as lycopene (found in tomatoes) and beta-carotene (found in carrots).\n",
            "Phytochemicals are believed to promote health and well-being. As a result, eating tomatoes with olive oil or salad dressing will\n",
            "facilitate lycopene absorption. Other essential nutrients, such as essential fatty acids, are constituents of the fats themselves\n",
            "and serve as building blocks of a cell. Figure 5.2 Food Sources of Omega 3’s 298 | The Functions of Lipids in the Body\n",
            "Similarity score: 57.88 %\n",
            "---------------\n"
          ]
        }
      ]
    },
    {
      "cell_type": "markdown",
      "source": [
        "Speed of vector search is very fast even with large vector size (10M embeddings)\n",
        "\n",
        "we are doing an exhaustive search when comparing the similarity with query and all the embeddings even if they are fast in operation. But is very wastefull as we are overusing the resources of every search.\n",
        "\n",
        "Recommended way is to use indexing techniques that can narrow down the search and make sure the resources are used efficiently.\n",
        "\n",
        "A popular indexing library called [faiss](https://ai.meta.com/tools/faiss/) by facebook that can help acheive this. One of the technique used ny this library is [Approximate Nearest Neighbour (ANN)](https://towardsdatascience.com/comprehensive-guide-to-approximate-nearest-neighbors-algorithms-8b94f057d6b6)\n",
        "\n",
        "\n",
        "**Improving the results with Reranking model**:\n",
        "\n",
        "We can improve the order of the similarity search with a reranking model. A model that has been trained specifically to take search results (example the top 25 semantic results) and rank them in order from most likely top-1 to least likely.\n",
        "\n",
        "[Read more on rerank model](https://www.mixedbread.ai/blog/mxbai-rerank-v1)\n",
        "\n",
        "\n",
        "## Return PDF page after search\n",
        "\n",
        "Now in the section part, we will return the pdf page automatically after the search"
      ],
      "metadata": {
        "id": "ACj8cOFdZOQy"
      }
    },
    {
      "cell_type": "code",
      "source": [
        "pdf_path = \"Human Nutrition.pdf\"\n",
        "doc = fitz.open(pdf_path)\n",
        "page_number = 5\n",
        "page = doc.load_page(page_number+41) # note: page numbers of this PDF starts at -40\n",
        "\n",
        "# get the image of the pdf page\n",
        "image = page.get_pixmap(dpi=300)\n",
        "\n",
        "## convert to image\n",
        "img_array = np.frombuffer(image.samples_mv, dtype=np.uint8).reshape((image.h, image.w, image.n))\n",
        "\n",
        "plt.imshow(img_array)\n",
        "plt.axis('off')\n",
        "plt.show()"
      ],
      "metadata": {
        "colab": {
          "base_uri": "https://localhost:8080/",
          "height": 406
        },
        "id": "EJoKI5X1agTQ",
        "outputId": "f5e78a5d-3ab8-449f-c21c-41b70a840436"
      },
      "execution_count": 30,
      "outputs": [
        {
          "output_type": "display_data",
          "data": {
            "text/plain": [
              "<Figure size 640x480 with 1 Axes>"
            ],
            "image/png": "[encoded data removed]"
          },
          "metadata": {}
        }
      ]
    },
    {
      "cell_type": "markdown",
      "source": [
        "## Getting a local LLM\n",
        "\n",
        "How to choose the LLM model for text generation ?\n",
        "\n",
        "There are plently of models regularly been updated and open-sourced. You can check out the [hugging face leaderboard](https://huggingface.co/spaces/HuggingFaceH4/open_llm_leaderboard)\n",
        "\n",
        "However the choice of LLM also depends on the hardware that is available in the local machine\n",
        "\n",
        "Also these models occupies large disk space. It is recommened to also look for [quantized version of these models](https://huggingface.co/TheBloke)"
      ],
      "metadata": {
        "id": "03Gig5Xsjxz4"
      }
    },
    {
      "cell_type": "markdown",
      "source": [
        "## Checking our local GPU memory availability\n"
      ],
      "metadata": {
        "id": "OEWBUcxWozr4"
      }
    },
    {
      "cell_type": "code",
      "source": [
        "gpu_memory_bytes = torch.cuda.get_device_properties(0).total_memory\n",
        "gpu_memory_gb = round(gpu_memory_bytes / (2**30))\n",
        "print(f\"Available GPU memory: {gpu_memory_gb} GB\")"
      ],
      "metadata": {
        "id": "ux2G3Bg3ozB-",
        "outputId": "15cea35b-3bc9-4827-b554-dc76e454b0bd",
        "colab": {
          "base_uri": "https://localhost:8080/"
        }
      },
      "execution_count": 2,
      "outputs": [
        {
          "output_type": "stream",
          "name": "stdout",
          "text": [
            "Available GPU memory: 15 GB\n"
          ]
        }
      ]
    }
  ]
}