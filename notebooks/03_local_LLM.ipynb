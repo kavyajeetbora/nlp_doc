{
  "nbformat": 4,
  "nbformat_minor": 0,
  "metadata": {
    "colab": {
      "provenance": [],
      "gpuType": "T4",
      "authorship_tag": "ABX9TyP3Z6reqncBucTy4YiSekRg",
      "include_colab_link": true
    },
    "kernelspec": {
      "name": "python3",
      "display_name": "Python 3"
    },
    "language_info": {
      "name": "python"
    },
    "accelerator": "GPU",
    "widgets": {
      "application/vnd.jupyter.widget-state+json": {
        "0d124fc6dcbf46f7894fb0b142c4016f": {
          "model_module": "@jupyter-widgets/controls",
          "model_name": "VBoxModel",
          "model_module_version": "1.5.0",
          "state": {
            "_dom_classes": [],
            "_model_module": "@jupyter-widgets/controls",
            "_model_module_version": "1.5.0",
            "_model_name": "VBoxModel",
            "_view_count": null,
            "_view_module": "@jupyter-widgets/controls",
            "_view_module_version": "1.5.0",
            "_view_name": "VBoxView",
            "box_style": "",
            "children": [
              "IPY_MODEL_dd9a03e386f147c1a4d3ea4a02353c6b",
              "IPY_MODEL_1fc6a3380f2b471ba78c93671c72370e",
              "IPY_MODEL_588e909302264d49b3567214970825f1",
              "IPY_MODEL_760062d51cf048daba2a54a8a0aacc94"
            ],
            "layout": "IPY_MODEL_7326dedc597347939a532773ee42c512"
          }
        },
        "c68779a4f941478daaa47de3e4bc41e9": {
          "model_module": "@jupyter-widgets/controls",
          "model_name": "HTMLModel",
          "model_module_version": "1.5.0",
          "state": {
            "_dom_classes": [],
            "_model_module": "@jupyter-widgets/controls",
            "_model_module_version": "1.5.0",
            "_model_name": "HTMLModel",
            "_view_count": null,
            "_view_module": "@jupyter-widgets/controls",
            "_view_module_version": "1.5.0",
            "_view_name": "HTMLView",
            "description": "",
            "description_tooltip": null,
            "layout": "IPY_MODEL_e6f7eb6189434c5687aec8e20b0ddf81",
            "placeholder": "​",
            "style": "IPY_MODEL_0e534103874d4828a1c1c843e0d6f098",
            "value": "<center> <img\nsrc=https://huggingface.co/front/assets/huggingface_logo-noborder.svg\nalt='Hugging Face'> <br> Copy a token from <a\nhref=\"https://huggingface.co/settings/tokens\" target=\"_blank\">your Hugging Face\ntokens page</a> and paste it below. <br> Immediately click login after copying\nyour token or it might be stored in plain text in this notebook file. </center>"
          }
        },
        "69462db90b59411fae82c151b976ebd0": {
          "model_module": "@jupyter-widgets/controls",
          "model_name": "PasswordModel",
          "model_module_version": "1.5.0",
          "state": {
            "_dom_classes": [],
            "_model_module": "@jupyter-widgets/controls",
            "_model_module_version": "1.5.0",
            "_model_name": "PasswordModel",
            "_view_count": null,
            "_view_module": "@jupyter-widgets/controls",
            "_view_module_version": "1.5.0",
            "_view_name": "PasswordView",
            "continuous_update": true,
            "description": "Token:",
            "description_tooltip": null,
            "disabled": false,
            "layout": "IPY_MODEL_771a67bca3ed4a97b2c5b97160ca4791",
            "placeholder": "​",
            "style": "IPY_MODEL_89072a74667b403491881efa78af753d",
            "value": ""
          }
        },
        "f454e33fda0745bc9c2b21c4cc734088": {
          "model_module": "@jupyter-widgets/controls",
          "model_name": "CheckboxModel",
          "model_module_version": "1.5.0",
          "state": {
            "_dom_classes": [],
            "_model_module": "@jupyter-widgets/controls",
            "_model_module_version": "1.5.0",
            "_model_name": "CheckboxModel",
            "_view_count": null,
            "_view_module": "@jupyter-widgets/controls",
            "_view_module_version": "1.5.0",
            "_view_name": "CheckboxView",
            "description": "Add token as git credential?",
            "description_tooltip": null,
            "disabled": false,
            "indent": true,
            "layout": "IPY_MODEL_81eac4bdcf3743d5a4a5b6e144cfde9a",
            "style": "IPY_MODEL_d4a5d5b34b334c1581a97fe0c2a610d3",
            "value": true
          }
        },
        "9eab816ad538403087d4a29e5f9823a5": {
          "model_module": "@jupyter-widgets/controls",
          "model_name": "ButtonModel",
          "model_module_version": "1.5.0",
          "state": {
            "_dom_classes": [],
            "_model_module": "@jupyter-widgets/controls",
            "_model_module_version": "1.5.0",
            "_model_name": "ButtonModel",
            "_view_count": null,
            "_view_module": "@jupyter-widgets/controls",
            "_view_module_version": "1.5.0",
            "_view_name": "ButtonView",
            "button_style": "",
            "description": "Login",
            "disabled": false,
            "icon": "",
            "layout": "IPY_MODEL_b295fcaac33e4cfdb281427e5d9998b7",
            "style": "IPY_MODEL_a7b1e102a91a4f85b197368d148dff3c",
            "tooltip": ""
          }
        },
        "d0a4c6cb75d44a63ae883f816caf16b9": {
          "model_module": "@jupyter-widgets/controls",
          "model_name": "HTMLModel",
          "model_module_version": "1.5.0",
          "state": {
            "_dom_classes": [],
            "_model_module": "@jupyter-widgets/controls",
            "_model_module_version": "1.5.0",
            "_model_name": "HTMLModel",
            "_view_count": null,
            "_view_module": "@jupyter-widgets/controls",
            "_view_module_version": "1.5.0",
            "_view_name": "HTMLView",
            "description": "",
            "description_tooltip": null,
            "layout": "IPY_MODEL_8be4e084383d463aa7c646e867a8c8ff",
            "placeholder": "​",
            "style": "IPY_MODEL_f255c194deb44a9ca3f63543aed3c9fe",
            "value": "\n<b>Pro Tip:</b> If you don't already have one, you can create a dedicated\n'notebooks' token with 'write' access, that you can then easily reuse for all\nnotebooks. </center>"
          }
        },
        "7326dedc597347939a532773ee42c512": {
          "model_module": "@jupyter-widgets/base",
          "model_name": "LayoutModel",
          "model_module_version": "1.2.0",
          "state": {
            "_model_module": "@jupyter-widgets/base",
            "_model_module_version": "1.2.0",
            "_model_name": "LayoutModel",
            "_view_count": null,
            "_view_module": "@jupyter-widgets/base",
            "_view_module_version": "1.2.0",
            "_view_name": "LayoutView",
            "align_content": null,
            "align_items": "center",
            "align_self": null,
            "border": null,
            "bottom": null,
            "display": "flex",
            "flex": null,
            "flex_flow": "column",
            "grid_area": null,
            "grid_auto_columns": null,
            "grid_auto_flow": null,
            "grid_auto_rows": null,
            "grid_column": null,
            "grid_gap": null,
            "grid_row": null,
            "grid_template_areas": null,
            "grid_template_columns": null,
            "grid_template_rows": null,
            "height": null,
            "justify_content": null,
            "justify_items": null,
            "left": null,
            "margin": null,
            "max_height": null,
            "max_width": null,
            "min_height": null,
            "min_width": null,
            "object_fit": null,
            "object_position": null,
            "order": null,
            "overflow": null,
            "overflow_x": null,
            "overflow_y": null,
            "padding": null,
            "right": null,
            "top": null,
            "visibility": null,
            "width": "50%"
          }
        },
        "e6f7eb6189434c5687aec8e20b0ddf81": {
          "model_module": "@jupyter-widgets/base",
          "model_name": "LayoutModel",
          "model_module_version": "1.2.0",
          "state": {
            "_model_module": "@jupyter-widgets/base",
            "_model_module_version": "1.2.0",
            "_model_name": "LayoutModel",
            "_view_count": null,
            "_view_module": "@jupyter-widgets/base",
            "_view_module_version": "1.2.0",
            "_view_name": "LayoutView",
            "align_content": null,
            "align_items": null,
            "align_self": null,
            "border": null,
            "bottom": null,
            "display": null,
            "flex": null,
            "flex_flow": null,
            "grid_area": null,
            "grid_auto_columns": null,
            "grid_auto_flow": null,
            "grid_auto_rows": null,
            "grid_column": null,
            "grid_gap": null,
            "grid_row": null,
            "grid_template_areas": null,
            "grid_template_columns": null,
            "grid_template_rows": null,
            "height": null,
            "justify_content": null,
            "justify_items": null,
            "left": null,
            "margin": null,
            "max_height": null,
            "max_width": null,
            "min_height": null,
            "min_width": null,
            "object_fit": null,
            "object_position": null,
            "order": null,
            "overflow": null,
            "overflow_x": null,
            "overflow_y": null,
            "padding": null,
            "right": null,
            "top": null,
            "visibility": null,
            "width": null
          }
        },
        "0e534103874d4828a1c1c843e0d6f098": {
          "model_module": "@jupyter-widgets/controls",
          "model_name": "DescriptionStyleModel",
          "model_module_version": "1.5.0",
          "state": {
            "_model_module": "@jupyter-widgets/controls",
            "_model_module_version": "1.5.0",
            "_model_name": "DescriptionStyleModel",
            "_view_count": null,
            "_view_module": "@jupyter-widgets/base",
            "_view_module_version": "1.2.0",
            "_view_name": "StyleView",
            "description_width": ""
          }
        },
        "771a67bca3ed4a97b2c5b97160ca4791": {
          "model_module": "@jupyter-widgets/base",
          "model_name": "LayoutModel",
          "model_module_version": "1.2.0",
          "state": {
            "_model_module": "@jupyter-widgets/base",
            "_model_module_version": "1.2.0",
            "_model_name": "LayoutModel",
            "_view_count": null,
            "_view_module": "@jupyter-widgets/base",
            "_view_module_version": "1.2.0",
            "_view_name": "LayoutView",
            "align_content": null,
            "align_items": null,
            "align_self": null,
            "border": null,
            "bottom": null,
            "display": null,
            "flex": null,
            "flex_flow": null,
            "grid_area": null,
            "grid_auto_columns": null,
            "grid_auto_flow": null,
            "grid_auto_rows": null,
            "grid_column": null,
            "grid_gap": null,
            "grid_row": null,
            "grid_template_areas": null,
            "grid_template_columns": null,
            "grid_template_rows": null,
            "height": null,
            "justify_content": null,
            "justify_items": null,
            "left": null,
            "margin": null,
            "max_height": null,
            "max_width": null,
            "min_height": null,
            "min_width": null,
            "object_fit": null,
            "object_position": null,
            "order": null,
            "overflow": null,
            "overflow_x": null,
            "overflow_y": null,
            "padding": null,
            "right": null,
            "top": null,
            "visibility": null,
            "width": null
          }
        },
        "89072a74667b403491881efa78af753d": {
          "model_module": "@jupyter-widgets/controls",
          "model_name": "DescriptionStyleModel",
          "model_module_version": "1.5.0",
          "state": {
            "_model_module": "@jupyter-widgets/controls",
            "_model_module_version": "1.5.0",
            "_model_name": "DescriptionStyleModel",
            "_view_count": null,
            "_view_module": "@jupyter-widgets/base",
            "_view_module_version": "1.2.0",
            "_view_name": "StyleView",
            "description_width": ""
          }
        },
        "81eac4bdcf3743d5a4a5b6e144cfde9a": {
          "model_module": "@jupyter-widgets/base",
          "model_name": "LayoutModel",
          "model_module_version": "1.2.0",
          "state": {
            "_model_module": "@jupyter-widgets/base",
            "_model_module_version": "1.2.0",
            "_model_name": "LayoutModel",
            "_view_count": null,
            "_view_module": "@jupyter-widgets/base",
            "_view_module_version": "1.2.0",
            "_view_name": "LayoutView",
            "align_content": null,
            "align_items": null,
            "align_self": null,
            "border": null,
            "bottom": null,
            "display": null,
            "flex": null,
            "flex_flow": null,
            "grid_area": null,
            "grid_auto_columns": null,
            "grid_auto_flow": null,
            "grid_auto_rows": null,
            "grid_column": null,
            "grid_gap": null,
            "grid_row": null,
            "grid_template_areas": null,
            "grid_template_columns": null,
            "grid_template_rows": null,
            "height": null,
            "justify_content": null,
            "justify_items": null,
            "left": null,
            "margin": null,
            "max_height": null,
            "max_width": null,
            "min_height": null,
            "min_width": null,
            "object_fit": null,
            "object_position": null,
            "order": null,
            "overflow": null,
            "overflow_x": null,
            "overflow_y": null,
            "padding": null,
            "right": null,
            "top": null,
            "visibility": null,
            "width": null
          }
        },
        "d4a5d5b34b334c1581a97fe0c2a610d3": {
          "model_module": "@jupyter-widgets/controls",
          "model_name": "DescriptionStyleModel",
          "model_module_version": "1.5.0",
          "state": {
            "_model_module": "@jupyter-widgets/controls",
            "_model_module_version": "1.5.0",
            "_model_name": "DescriptionStyleModel",
            "_view_count": null,
            "_view_module": "@jupyter-widgets/base",
            "_view_module_version": "1.2.0",
            "_view_name": "StyleView",
            "description_width": ""
          }
        },
        "b295fcaac33e4cfdb281427e5d9998b7": {
          "model_module": "@jupyter-widgets/base",
          "model_name": "LayoutModel",
          "model_module_version": "1.2.0",
          "state": {
            "_model_module": "@jupyter-widgets/base",
            "_model_module_version": "1.2.0",
            "_model_name": "LayoutModel",
            "_view_count": null,
            "_view_module": "@jupyter-widgets/base",
            "_view_module_version": "1.2.0",
            "_view_name": "LayoutView",
            "align_content": null,
            "align_items": null,
            "align_self": null,
            "border": null,
            "bottom": null,
            "display": null,
            "flex": null,
            "flex_flow": null,
            "grid_area": null,
            "grid_auto_columns": null,
            "grid_auto_flow": null,
            "grid_auto_rows": null,
            "grid_column": null,
            "grid_gap": null,
            "grid_row": null,
            "grid_template_areas": null,
            "grid_template_columns": null,
            "grid_template_rows": null,
            "height": null,
            "justify_content": null,
            "justify_items": null,
            "left": null,
            "margin": null,
            "max_height": null,
            "max_width": null,
            "min_height": null,
            "min_width": null,
            "object_fit": null,
            "object_position": null,
            "order": null,
            "overflow": null,
            "overflow_x": null,
            "overflow_y": null,
            "padding": null,
            "right": null,
            "top": null,
            "visibility": null,
            "width": null
          }
        },
        "a7b1e102a91a4f85b197368d148dff3c": {
          "model_module": "@jupyter-widgets/controls",
          "model_name": "ButtonStyleModel",
          "model_module_version": "1.5.0",
          "state": {
            "_model_module": "@jupyter-widgets/controls",
            "_model_module_version": "1.5.0",
            "_model_name": "ButtonStyleModel",
            "_view_count": null,
            "_view_module": "@jupyter-widgets/base",
            "_view_module_version": "1.2.0",
            "_view_name": "StyleView",
            "button_color": null,
            "font_weight": ""
          }
        },
        "8be4e084383d463aa7c646e867a8c8ff": {
          "model_module": "@jupyter-widgets/base",
          "model_name": "LayoutModel",
          "model_module_version": "1.2.0",
          "state": {
            "_model_module": "@jupyter-widgets/base",
            "_model_module_version": "1.2.0",
            "_model_name": "LayoutModel",
            "_view_count": null,
            "_view_module": "@jupyter-widgets/base",
            "_view_module_version": "1.2.0",
            "_view_name": "LayoutView",
            "align_content": null,
            "align_items": null,
            "align_self": null,
            "border": null,
            "bottom": null,
            "display": null,
            "flex": null,
            "flex_flow": null,
            "grid_area": null,
            "grid_auto_columns": null,
            "grid_auto_flow": null,
            "grid_auto_rows": null,
            "grid_column": null,
            "grid_gap": null,
            "grid_row": null,
            "grid_template_areas": null,
            "grid_template_columns": null,
            "grid_template_rows": null,
            "height": null,
            "justify_content": null,
            "justify_items": null,
            "left": null,
            "margin": null,
            "max_height": null,
            "max_width": null,
            "min_height": null,
            "min_width": null,
            "object_fit": null,
            "object_position": null,
            "order": null,
            "overflow": null,
            "overflow_x": null,
            "overflow_y": null,
            "padding": null,
            "right": null,
            "top": null,
            "visibility": null,
            "width": null
          }
        },
        "f255c194deb44a9ca3f63543aed3c9fe": {
          "model_module": "@jupyter-widgets/controls",
          "model_name": "DescriptionStyleModel",
          "model_module_version": "1.5.0",
          "state": {
            "_model_module": "@jupyter-widgets/controls",
            "_model_module_version": "1.5.0",
            "_model_name": "DescriptionStyleModel",
            "_view_count": null,
            "_view_module": "@jupyter-widgets/base",
            "_view_module_version": "1.2.0",
            "_view_name": "StyleView",
            "description_width": ""
          }
        },
        "a649d4f4966c4364a198e063d5072806": {
          "model_module": "@jupyter-widgets/controls",
          "model_name": "LabelModel",
          "model_module_version": "1.5.0",
          "state": {
            "_dom_classes": [],
            "_model_module": "@jupyter-widgets/controls",
            "_model_module_version": "1.5.0",
            "_model_name": "LabelModel",
            "_view_count": null,
            "_view_module": "@jupyter-widgets/controls",
            "_view_module_version": "1.5.0",
            "_view_name": "LabelView",
            "description": "",
            "description_tooltip": null,
            "layout": "IPY_MODEL_7c9f7cc117464dda9fa32ae812e1a95a",
            "placeholder": "​",
            "style": "IPY_MODEL_6d060c7be8454f09bcb9ab0b7c238e2a",
            "value": "Connecting..."
          }
        },
        "7c9f7cc117464dda9fa32ae812e1a95a": {
          "model_module": "@jupyter-widgets/base",
          "model_name": "LayoutModel",
          "model_module_version": "1.2.0",
          "state": {
            "_model_module": "@jupyter-widgets/base",
            "_model_module_version": "1.2.0",
            "_model_name": "LayoutModel",
            "_view_count": null,
            "_view_module": "@jupyter-widgets/base",
            "_view_module_version": "1.2.0",
            "_view_name": "LayoutView",
            "align_content": null,
            "align_items": null,
            "align_self": null,
            "border": null,
            "bottom": null,
            "display": null,
            "flex": null,
            "flex_flow": null,
            "grid_area": null,
            "grid_auto_columns": null,
            "grid_auto_flow": null,
            "grid_auto_rows": null,
            "grid_column": null,
            "grid_gap": null,
            "grid_row": null,
            "grid_template_areas": null,
            "grid_template_columns": null,
            "grid_template_rows": null,
            "height": null,
            "justify_content": null,
            "justify_items": null,
            "left": null,
            "margin": null,
            "max_height": null,
            "max_width": null,
            "min_height": null,
            "min_width": null,
            "object_fit": null,
            "object_position": null,
            "order": null,
            "overflow": null,
            "overflow_x": null,
            "overflow_y": null,
            "padding": null,
            "right": null,
            "top": null,
            "visibility": null,
            "width": null
          }
        },
        "6d060c7be8454f09bcb9ab0b7c238e2a": {
          "model_module": "@jupyter-widgets/controls",
          "model_name": "DescriptionStyleModel",
          "model_module_version": "1.5.0",
          "state": {
            "_model_module": "@jupyter-widgets/controls",
            "_model_module_version": "1.5.0",
            "_model_name": "DescriptionStyleModel",
            "_view_count": null,
            "_view_module": "@jupyter-widgets/base",
            "_view_module_version": "1.2.0",
            "_view_name": "StyleView",
            "description_width": ""
          }
        },
        "dd9a03e386f147c1a4d3ea4a02353c6b": {
          "model_module": "@jupyter-widgets/controls",
          "model_name": "LabelModel",
          "model_module_version": "1.5.0",
          "state": {
            "_dom_classes": [],
            "_model_module": "@jupyter-widgets/controls",
            "_model_module_version": "1.5.0",
            "_model_name": "LabelModel",
            "_view_count": null,
            "_view_module": "@jupyter-widgets/controls",
            "_view_module_version": "1.5.0",
            "_view_name": "LabelView",
            "description": "",
            "description_tooltip": null,
            "layout": "IPY_MODEL_f865bfa8846d422db807db02c9dba533",
            "placeholder": "​",
            "style": "IPY_MODEL_9b610a12d6734b5393158a031b2db71e",
            "value": "Token is valid (permission: read)."
          }
        },
        "1fc6a3380f2b471ba78c93671c72370e": {
          "model_module": "@jupyter-widgets/controls",
          "model_name": "LabelModel",
          "model_module_version": "1.5.0",
          "state": {
            "_dom_classes": [],
            "_model_module": "@jupyter-widgets/controls",
            "_model_module_version": "1.5.0",
            "_model_name": "LabelModel",
            "_view_count": null,
            "_view_module": "@jupyter-widgets/controls",
            "_view_module_version": "1.5.0",
            "_view_name": "LabelView",
            "description": "",
            "description_tooltip": null,
            "layout": "IPY_MODEL_f146eb4035044228b6b806903dbaac55",
            "placeholder": "​",
            "style": "IPY_MODEL_1ab5e9841ca54214aad8990b1ede1cb4",
            "value": "Your token has been saved in your configured git credential helpers (store)."
          }
        },
        "588e909302264d49b3567214970825f1": {
          "model_module": "@jupyter-widgets/controls",
          "model_name": "LabelModel",
          "model_module_version": "1.5.0",
          "state": {
            "_dom_classes": [],
            "_model_module": "@jupyter-widgets/controls",
            "_model_module_version": "1.5.0",
            "_model_name": "LabelModel",
            "_view_count": null,
            "_view_module": "@jupyter-widgets/controls",
            "_view_module_version": "1.5.0",
            "_view_name": "LabelView",
            "description": "",
            "description_tooltip": null,
            "layout": "IPY_MODEL_5c41e5fce02447d7ae8f911e590a21e2",
            "placeholder": "​",
            "style": "IPY_MODEL_cc6e9d2d9ecf4763a06c02dd47889194",
            "value": "Your token has been saved to /root/.cache/huggingface/token"
          }
        },
        "760062d51cf048daba2a54a8a0aacc94": {
          "model_module": "@jupyter-widgets/controls",
          "model_name": "LabelModel",
          "model_module_version": "1.5.0",
          "state": {
            "_dom_classes": [],
            "_model_module": "@jupyter-widgets/controls",
            "_model_module_version": "1.5.0",
            "_model_name": "LabelModel",
            "_view_count": null,
            "_view_module": "@jupyter-widgets/controls",
            "_view_module_version": "1.5.0",
            "_view_name": "LabelView",
            "description": "",
            "description_tooltip": null,
            "layout": "IPY_MODEL_9eaad8adbd2b487d87d329f13c506cc2",
            "placeholder": "​",
            "style": "IPY_MODEL_195ef0d9caed4091b0c5377ea41c89b1",
            "value": "Login successful"
          }
        },
        "f865bfa8846d422db807db02c9dba533": {
          "model_module": "@jupyter-widgets/base",
          "model_name": "LayoutModel",
          "model_module_version": "1.2.0",
          "state": {
            "_model_module": "@jupyter-widgets/base",
            "_model_module_version": "1.2.0",
            "_model_name": "LayoutModel",
            "_view_count": null,
            "_view_module": "@jupyter-widgets/base",
            "_view_module_version": "1.2.0",
            "_view_name": "LayoutView",
            "align_content": null,
            "align_items": null,
            "align_self": null,
            "border": null,
            "bottom": null,
            "display": null,
            "flex": null,
            "flex_flow": null,
            "grid_area": null,
            "grid_auto_columns": null,
            "grid_auto_flow": null,
            "grid_auto_rows": null,
            "grid_column": null,
            "grid_gap": null,
            "grid_row": null,
            "grid_template_areas": null,
            "grid_template_columns": null,
            "grid_template_rows": null,
            "height": null,
            "justify_content": null,
            "justify_items": null,
            "left": null,
            "margin": null,
            "max_height": null,
            "max_width": null,
            "min_height": null,
            "min_width": null,
            "object_fit": null,
            "object_position": null,
            "order": null,
            "overflow": null,
            "overflow_x": null,
            "overflow_y": null,
            "padding": null,
            "right": null,
            "top": null,
            "visibility": null,
            "width": null
          }
        },
        "9b610a12d6734b5393158a031b2db71e": {
          "model_module": "@jupyter-widgets/controls",
          "model_name": "DescriptionStyleModel",
          "model_module_version": "1.5.0",
          "state": {
            "_model_module": "@jupyter-widgets/controls",
            "_model_module_version": "1.5.0",
            "_model_name": "DescriptionStyleModel",
            "_view_count": null,
            "_view_module": "@jupyter-widgets/base",
            "_view_module_version": "1.2.0",
            "_view_name": "StyleView",
            "description_width": ""
          }
        },
        "f146eb4035044228b6b806903dbaac55": {
          "model_module": "@jupyter-widgets/base",
          "model_name": "LayoutModel",
          "model_module_version": "1.2.0",
          "state": {
            "_model_module": "@jupyter-widgets/base",
            "_model_module_version": "1.2.0",
            "_model_name": "LayoutModel",
            "_view_count": null,
            "_view_module": "@jupyter-widgets/base",
            "_view_module_version": "1.2.0",
            "_view_name": "LayoutView",
            "align_content": null,
            "align_items": null,
            "align_self": null,
            "border": null,
            "bottom": null,
            "display": null,
            "flex": null,
            "flex_flow": null,
            "grid_area": null,
            "grid_auto_columns": null,
            "grid_auto_flow": null,
            "grid_auto_rows": null,
            "grid_column": null,
            "grid_gap": null,
            "grid_row": null,
            "grid_template_areas": null,
            "grid_template_columns": null,
            "grid_template_rows": null,
            "height": null,
            "justify_content": null,
            "justify_items": null,
            "left": null,
            "margin": null,
            "max_height": null,
            "max_width": null,
            "min_height": null,
            "min_width": null,
            "object_fit": null,
            "object_position": null,
            "order": null,
            "overflow": null,
            "overflow_x": null,
            "overflow_y": null,
            "padding": null,
            "right": null,
            "top": null,
            "visibility": null,
            "width": null
          }
        },
        "1ab5e9841ca54214aad8990b1ede1cb4": {
          "model_module": "@jupyter-widgets/controls",
          "model_name": "DescriptionStyleModel",
          "model_module_version": "1.5.0",
          "state": {
            "_model_module": "@jupyter-widgets/controls",
            "_model_module_version": "1.5.0",
            "_model_name": "DescriptionStyleModel",
            "_view_count": null,
            "_view_module": "@jupyter-widgets/base",
            "_view_module_version": "1.2.0",
            "_view_name": "StyleView",
            "description_width": ""
          }
        },
        "5c41e5fce02447d7ae8f911e590a21e2": {
          "model_module": "@jupyter-widgets/base",
          "model_name": "LayoutModel",
          "model_module_version": "1.2.0",
          "state": {
            "_model_module": "@jupyter-widgets/base",
            "_model_module_version": "1.2.0",
            "_model_name": "LayoutModel",
            "_view_count": null,
            "_view_module": "@jupyter-widgets/base",
            "_view_module_version": "1.2.0",
            "_view_name": "LayoutView",
            "align_content": null,
            "align_items": null,
            "align_self": null,
            "border": null,
            "bottom": null,
            "display": null,
            "flex": null,
            "flex_flow": null,
            "grid_area": null,
            "grid_auto_columns": null,
            "grid_auto_flow": null,
            "grid_auto_rows": null,
            "grid_column": null,
            "grid_gap": null,
            "grid_row": null,
            "grid_template_areas": null,
            "grid_template_columns": null,
            "grid_template_rows": null,
            "height": null,
            "justify_content": null,
            "justify_items": null,
            "left": null,
            "margin": null,
            "max_height": null,
            "max_width": null,
            "min_height": null,
            "min_width": null,
            "object_fit": null,
            "object_position": null,
            "order": null,
            "overflow": null,
            "overflow_x": null,
            "overflow_y": null,
            "padding": null,
            "right": null,
            "top": null,
            "visibility": null,
            "width": null
          }
        },
        "cc6e9d2d9ecf4763a06c02dd47889194": {
          "model_module": "@jupyter-widgets/controls",
          "model_name": "DescriptionStyleModel",
          "model_module_version": "1.5.0",
          "state": {
            "_model_module": "@jupyter-widgets/controls",
            "_model_module_version": "1.5.0",
            "_model_name": "DescriptionStyleModel",
            "_view_count": null,
            "_view_module": "@jupyter-widgets/base",
            "_view_module_version": "1.2.0",
            "_view_name": "StyleView",
            "description_width": ""
          }
        },
        "9eaad8adbd2b487d87d329f13c506cc2": {
          "model_module": "@jupyter-widgets/base",
          "model_name": "LayoutModel",
          "model_module_version": "1.2.0",
          "state": {
            "_model_module": "@jupyter-widgets/base",
            "_model_module_version": "1.2.0",
            "_model_name": "LayoutModel",
            "_view_count": null,
            "_view_module": "@jupyter-widgets/base",
            "_view_module_version": "1.2.0",
            "_view_name": "LayoutView",
            "align_content": null,
            "align_items": null,
            "align_self": null,
            "border": null,
            "bottom": null,
            "display": null,
            "flex": null,
            "flex_flow": null,
            "grid_area": null,
            "grid_auto_columns": null,
            "grid_auto_flow": null,
            "grid_auto_rows": null,
            "grid_column": null,
            "grid_gap": null,
            "grid_row": null,
            "grid_template_areas": null,
            "grid_template_columns": null,
            "grid_template_rows": null,
            "height": null,
            "justify_content": null,
            "justify_items": null,
            "left": null,
            "margin": null,
            "max_height": null,
            "max_width": null,
            "min_height": null,
            "min_width": null,
            "object_fit": null,
            "object_position": null,
            "order": null,
            "overflow": null,
            "overflow_x": null,
            "overflow_y": null,
            "padding": null,
            "right": null,
            "top": null,
            "visibility": null,
            "width": null
          }
        },
        "195ef0d9caed4091b0c5377ea41c89b1": {
          "model_module": "@jupyter-widgets/controls",
          "model_name": "DescriptionStyleModel",
          "model_module_version": "1.5.0",
          "state": {
            "_model_module": "@jupyter-widgets/controls",
            "_model_module_version": "1.5.0",
            "_model_name": "DescriptionStyleModel",
            "_view_count": null,
            "_view_module": "@jupyter-widgets/base",
            "_view_module_version": "1.2.0",
            "_view_name": "StyleView",
            "description_width": ""
          }
        },
        "8327cffd81f54d2282d5033a3b0b7127": {
          "model_module": "@jupyter-widgets/controls",
          "model_name": "HBoxModel",
          "model_module_version": "1.5.0",
          "state": {
            "_dom_classes": [],
            "_model_module": "@jupyter-widgets/controls",
            "_model_module_version": "1.5.0",
            "_model_name": "HBoxModel",
            "_view_count": null,
            "_view_module": "@jupyter-widgets/controls",
            "_view_module_version": "1.5.0",
            "_view_name": "HBoxView",
            "box_style": "",
            "children": [
              "IPY_MODEL_8467c5906d6e4e50a2386af383466c32",
              "IPY_MODEL_bcbb049c8c8b460993b7c4fa9d93dd1b",
              "IPY_MODEL_79b6b0951554495bb3ade153bd6d1690"
            ],
            "layout": "IPY_MODEL_e1b9428c026a4bde819b0d616f3622e2"
          }
        },
        "8467c5906d6e4e50a2386af383466c32": {
          "model_module": "@jupyter-widgets/controls",
          "model_name": "HTMLModel",
          "model_module_version": "1.5.0",
          "state": {
            "_dom_classes": [],
            "_model_module": "@jupyter-widgets/controls",
            "_model_module_version": "1.5.0",
            "_model_name": "HTMLModel",
            "_view_count": null,
            "_view_module": "@jupyter-widgets/controls",
            "_view_module_version": "1.5.0",
            "_view_name": "HTMLView",
            "description": "",
            "description_tooltip": null,
            "layout": "IPY_MODEL_7054c3f52dc548399840ea11bb590423",
            "placeholder": "​",
            "style": "IPY_MODEL_3b1456ce2b4042178a1b206f696ca9f9",
            "value": "Loading checkpoint shards: 100%"
          }
        },
        "bcbb049c8c8b460993b7c4fa9d93dd1b": {
          "model_module": "@jupyter-widgets/controls",
          "model_name": "FloatProgressModel",
          "model_module_version": "1.5.0",
          "state": {
            "_dom_classes": [],
            "_model_module": "@jupyter-widgets/controls",
            "_model_module_version": "1.5.0",
            "_model_name": "FloatProgressModel",
            "_view_count": null,
            "_view_module": "@jupyter-widgets/controls",
            "_view_module_version": "1.5.0",
            "_view_name": "ProgressView",
            "bar_style": "success",
            "description": "",
            "description_tooltip": null,
            "layout": "IPY_MODEL_a2ace1c0129f453e82a96d5d66ddbde1",
            "max": 2,
            "min": 0,
            "orientation": "horizontal",
            "style": "IPY_MODEL_e8f23d385c7a4a7884e418ba8fe5bf2f",
            "value": 2
          }
        },
        "79b6b0951554495bb3ade153bd6d1690": {
          "model_module": "@jupyter-widgets/controls",
          "model_name": "HTMLModel",
          "model_module_version": "1.5.0",
          "state": {
            "_dom_classes": [],
            "_model_module": "@jupyter-widgets/controls",
            "_model_module_version": "1.5.0",
            "_model_name": "HTMLModel",
            "_view_count": null,
            "_view_module": "@jupyter-widgets/controls",
            "_view_module_version": "1.5.0",
            "_view_name": "HTMLView",
            "description": "",
            "description_tooltip": null,
            "layout": "IPY_MODEL_6a532d4c4ea84b84985816c7c835f69f",
            "placeholder": "​",
            "style": "IPY_MODEL_f781644487c14ec5af3c0c71024eccb7",
            "value": " 2/2 [00:26&lt;00:00, 11.17s/it]"
          }
        },
        "e1b9428c026a4bde819b0d616f3622e2": {
          "model_module": "@jupyter-widgets/base",
          "model_name": "LayoutModel",
          "model_module_version": "1.2.0",
          "state": {
            "_model_module": "@jupyter-widgets/base",
            "_model_module_version": "1.2.0",
            "_model_name": "LayoutModel",
            "_view_count": null,
            "_view_module": "@jupyter-widgets/base",
            "_view_module_version": "1.2.0",
            "_view_name": "LayoutView",
            "align_content": null,
            "align_items": null,
            "align_self": null,
            "border": null,
            "bottom": null,
            "display": null,
            "flex": null,
            "flex_flow": null,
            "grid_area": null,
            "grid_auto_columns": null,
            "grid_auto_flow": null,
            "grid_auto_rows": null,
            "grid_column": null,
            "grid_gap": null,
            "grid_row": null,
            "grid_template_areas": null,
            "grid_template_columns": null,
            "grid_template_rows": null,
            "height": null,
            "justify_content": null,
            "justify_items": null,
            "left": null,
            "margin": null,
            "max_height": null,
            "max_width": null,
            "min_height": null,
            "min_width": null,
            "object_fit": null,
            "object_position": null,
            "order": null,
            "overflow": null,
            "overflow_x": null,
            "overflow_y": null,
            "padding": null,
            "right": null,
            "top": null,
            "visibility": null,
            "width": null
          }
        },
        "7054c3f52dc548399840ea11bb590423": {
          "model_module": "@jupyter-widgets/base",
          "model_name": "LayoutModel",
          "model_module_version": "1.2.0",
          "state": {
            "_model_module": "@jupyter-widgets/base",
            "_model_module_version": "1.2.0",
            "_model_name": "LayoutModel",
            "_view_count": null,
            "_view_module": "@jupyter-widgets/base",
            "_view_module_version": "1.2.0",
            "_view_name": "LayoutView",
            "align_content": null,
            "align_items": null,
            "align_self": null,
            "border": null,
            "bottom": null,
            "display": null,
            "flex": null,
            "flex_flow": null,
            "grid_area": null,
            "grid_auto_columns": null,
            "grid_auto_flow": null,
            "grid_auto_rows": null,
            "grid_column": null,
            "grid_gap": null,
            "grid_row": null,
            "grid_template_areas": null,
            "grid_template_columns": null,
            "grid_template_rows": null,
            "height": null,
            "justify_content": null,
            "justify_items": null,
            "left": null,
            "margin": null,
            "max_height": null,
            "max_width": null,
            "min_height": null,
            "min_width": null,
            "object_fit": null,
            "object_position": null,
            "order": null,
            "overflow": null,
            "overflow_x": null,
            "overflow_y": null,
            "padding": null,
            "right": null,
            "top": null,
            "visibility": null,
            "width": null
          }
        },
        "3b1456ce2b4042178a1b206f696ca9f9": {
          "model_module": "@jupyter-widgets/controls",
          "model_name": "DescriptionStyleModel",
          "model_module_version": "1.5.0",
          "state": {
            "_model_module": "@jupyter-widgets/controls",
            "_model_module_version": "1.5.0",
            "_model_name": "DescriptionStyleModel",
            "_view_count": null,
            "_view_module": "@jupyter-widgets/base",
            "_view_module_version": "1.2.0",
            "_view_name": "StyleView",
            "description_width": ""
          }
        },
        "a2ace1c0129f453e82a96d5d66ddbde1": {
          "model_module": "@jupyter-widgets/base",
          "model_name": "LayoutModel",
          "model_module_version": "1.2.0",
          "state": {
            "_model_module": "@jupyter-widgets/base",
            "_model_module_version": "1.2.0",
            "_model_name": "LayoutModel",
            "_view_count": null,
            "_view_module": "@jupyter-widgets/base",
            "_view_module_version": "1.2.0",
            "_view_name": "LayoutView",
            "align_content": null,
            "align_items": null,
            "align_self": null,
            "border": null,
            "bottom": null,
            "display": null,
            "flex": null,
            "flex_flow": null,
            "grid_area": null,
            "grid_auto_columns": null,
            "grid_auto_flow": null,
            "grid_auto_rows": null,
            "grid_column": null,
            "grid_gap": null,
            "grid_row": null,
            "grid_template_areas": null,
            "grid_template_columns": null,
            "grid_template_rows": null,
            "height": null,
            "justify_content": null,
            "justify_items": null,
            "left": null,
            "margin": null,
            "max_height": null,
            "max_width": null,
            "min_height": null,
            "min_width": null,
            "object_fit": null,
            "object_position": null,
            "order": null,
            "overflow": null,
            "overflow_x": null,
            "overflow_y": null,
            "padding": null,
            "right": null,
            "top": null,
            "visibility": null,
            "width": null
          }
        },
        "e8f23d385c7a4a7884e418ba8fe5bf2f": {
          "model_module": "@jupyter-widgets/controls",
          "model_name": "ProgressStyleModel",
          "model_module_version": "1.5.0",
          "state": {
            "_model_module": "@jupyter-widgets/controls",
            "_model_module_version": "1.5.0",
            "_model_name": "ProgressStyleModel",
            "_view_count": null,
            "_view_module": "@jupyter-widgets/base",
            "_view_module_version": "1.2.0",
            "_view_name": "StyleView",
            "bar_color": null,
            "description_width": ""
          }
        },
        "6a532d4c4ea84b84985816c7c835f69f": {
          "model_module": "@jupyter-widgets/base",
          "model_name": "LayoutModel",
          "model_module_version": "1.2.0",
          "state": {
            "_model_module": "@jupyter-widgets/base",
            "_model_module_version": "1.2.0",
            "_model_name": "LayoutModel",
            "_view_count": null,
            "_view_module": "@jupyter-widgets/base",
            "_view_module_version": "1.2.0",
            "_view_name": "LayoutView",
            "align_content": null,
            "align_items": null,
            "align_self": null,
            "border": null,
            "bottom": null,
            "display": null,
            "flex": null,
            "flex_flow": null,
            "grid_area": null,
            "grid_auto_columns": null,
            "grid_auto_flow": null,
            "grid_auto_rows": null,
            "grid_column": null,
            "grid_gap": null,
            "grid_row": null,
            "grid_template_areas": null,
            "grid_template_columns": null,
            "grid_template_rows": null,
            "height": null,
            "justify_content": null,
            "justify_items": null,
            "left": null,
            "margin": null,
            "max_height": null,
            "max_width": null,
            "min_height": null,
            "min_width": null,
            "object_fit": null,
            "object_position": null,
            "order": null,
            "overflow": null,
            "overflow_x": null,
            "overflow_y": null,
            "padding": null,
            "right": null,
            "top": null,
            "visibility": null,
            "width": null
          }
        },
        "f781644487c14ec5af3c0c71024eccb7": {
          "model_module": "@jupyter-widgets/controls",
          "model_name": "DescriptionStyleModel",
          "model_module_version": "1.5.0",
          "state": {
            "_model_module": "@jupyter-widgets/controls",
            "_model_module_version": "1.5.0",
            "_model_name": "DescriptionStyleModel",
            "_view_count": null,
            "_view_module": "@jupyter-widgets/base",
            "_view_module_version": "1.2.0",
            "_view_name": "StyleView",
            "description_width": ""
          }
        },
        "4296fc3975cd4a10966606bd863330d0": {
          "model_module": "@jupyter-widgets/controls",
          "model_name": "HBoxModel",
          "model_module_version": "1.5.0",
          "state": {
            "_dom_classes": [],
            "_model_module": "@jupyter-widgets/controls",
            "_model_module_version": "1.5.0",
            "_model_name": "HBoxModel",
            "_view_count": null,
            "_view_module": "@jupyter-widgets/controls",
            "_view_module_version": "1.5.0",
            "_view_name": "HBoxView",
            "box_style": "",
            "children": [
              "IPY_MODEL_9e73755f16684d159ab22065b8fb60bf",
              "IPY_MODEL_2157931654364aa1979da15ebd1a207c",
              "IPY_MODEL_bcd3d9572a5c4883a7e274a04323b7d5"
            ],
            "layout": "IPY_MODEL_6fbf592623f842c0a66e948acb5ddeb5"
          }
        },
        "9e73755f16684d159ab22065b8fb60bf": {
          "model_module": "@jupyter-widgets/controls",
          "model_name": "HTMLModel",
          "model_module_version": "1.5.0",
          "state": {
            "_dom_classes": [],
            "_model_module": "@jupyter-widgets/controls",
            "_model_module_version": "1.5.0",
            "_model_name": "HTMLModel",
            "_view_count": null,
            "_view_module": "@jupyter-widgets/controls",
            "_view_module_version": "1.5.0",
            "_view_name": "HTMLView",
            "description": "",
            "description_tooltip": null,
            "layout": "IPY_MODEL_3b8c2593703649c1bfe8875a4e10653c",
            "placeholder": "​",
            "style": "IPY_MODEL_b4e3f18ab0084e80a6eb8d20e205ed84",
            "value": "Loading checkpoint shards: 100%"
          }
        },
        "2157931654364aa1979da15ebd1a207c": {
          "model_module": "@jupyter-widgets/controls",
          "model_name": "FloatProgressModel",
          "model_module_version": "1.5.0",
          "state": {
            "_dom_classes": [],
            "_model_module": "@jupyter-widgets/controls",
            "_model_module_version": "1.5.0",
            "_model_name": "FloatProgressModel",
            "_view_count": null,
            "_view_module": "@jupyter-widgets/controls",
            "_view_module_version": "1.5.0",
            "_view_name": "ProgressView",
            "bar_style": "success",
            "description": "",
            "description_tooltip": null,
            "layout": "IPY_MODEL_7cdcf0c35d684c85b84a31b34fe95259",
            "max": 2,
            "min": 0,
            "orientation": "horizontal",
            "style": "IPY_MODEL_09a0895e64c941ec9ad17b333dab9213",
            "value": 2
          }
        },
        "bcd3d9572a5c4883a7e274a04323b7d5": {
          "model_module": "@jupyter-widgets/controls",
          "model_name": "HTMLModel",
          "model_module_version": "1.5.0",
          "state": {
            "_dom_classes": [],
            "_model_module": "@jupyter-widgets/controls",
            "_model_module_version": "1.5.0",
            "_model_name": "HTMLModel",
            "_view_count": null,
            "_view_module": "@jupyter-widgets/controls",
            "_view_module_version": "1.5.0",
            "_view_name": "HTMLView",
            "description": "",
            "description_tooltip": null,
            "layout": "IPY_MODEL_829ee0fc137e4f3fa24337e2839fd7f2",
            "placeholder": "​",
            "style": "IPY_MODEL_6ff0620cf394458e88710e9eebc8861d",
            "value": " 2/2 [00:18&lt;00:00,  7.64s/it]"
          }
        },
        "6fbf592623f842c0a66e948acb5ddeb5": {
          "model_module": "@jupyter-widgets/base",
          "model_name": "LayoutModel",
          "model_module_version": "1.2.0",
          "state": {
            "_model_module": "@jupyter-widgets/base",
            "_model_module_version": "1.2.0",
            "_model_name": "LayoutModel",
            "_view_count": null,
            "_view_module": "@jupyter-widgets/base",
            "_view_module_version": "1.2.0",
            "_view_name": "LayoutView",
            "align_content": null,
            "align_items": null,
            "align_self": null,
            "border": null,
            "bottom": null,
            "display": null,
            "flex": null,
            "flex_flow": null,
            "grid_area": null,
            "grid_auto_columns": null,
            "grid_auto_flow": null,
            "grid_auto_rows": null,
            "grid_column": null,
            "grid_gap": null,
            "grid_row": null,
            "grid_template_areas": null,
            "grid_template_columns": null,
            "grid_template_rows": null,
            "height": null,
            "justify_content": null,
            "justify_items": null,
            "left": null,
            "margin": null,
            "max_height": null,
            "max_width": null,
            "min_height": null,
            "min_width": null,
            "object_fit": null,
            "object_position": null,
            "order": null,
            "overflow": null,
            "overflow_x": null,
            "overflow_y": null,
            "padding": null,
            "right": null,
            "top": null,
            "visibility": null,
            "width": null
          }
        },
        "3b8c2593703649c1bfe8875a4e10653c": {
          "model_module": "@jupyter-widgets/base",
          "model_name": "LayoutModel",
          "model_module_version": "1.2.0",
          "state": {
            "_model_module": "@jupyter-widgets/base",
            "_model_module_version": "1.2.0",
            "_model_name": "LayoutModel",
            "_view_count": null,
            "_view_module": "@jupyter-widgets/base",
            "_view_module_version": "1.2.0",
            "_view_name": "LayoutView",
            "align_content": null,
            "align_items": null,
            "align_self": null,
            "border": null,
            "bottom": null,
            "display": null,
            "flex": null,
            "flex_flow": null,
            "grid_area": null,
            "grid_auto_columns": null,
            "grid_auto_flow": null,
            "grid_auto_rows": null,
            "grid_column": null,
            "grid_gap": null,
            "grid_row": null,
            "grid_template_areas": null,
            "grid_template_columns": null,
            "grid_template_rows": null,
            "height": null,
            "justify_content": null,
            "justify_items": null,
            "left": null,
            "margin": null,
            "max_height": null,
            "max_width": null,
            "min_height": null,
            "min_width": null,
            "object_fit": null,
            "object_position": null,
            "order": null,
            "overflow": null,
            "overflow_x": null,
            "overflow_y": null,
            "padding": null,
            "right": null,
            "top": null,
            "visibility": null,
            "width": null
          }
        },
        "b4e3f18ab0084e80a6eb8d20e205ed84": {
          "model_module": "@jupyter-widgets/controls",
          "model_name": "DescriptionStyleModel",
          "model_module_version": "1.5.0",
          "state": {
            "_model_module": "@jupyter-widgets/controls",
            "_model_module_version": "1.5.0",
            "_model_name": "DescriptionStyleModel",
            "_view_count": null,
            "_view_module": "@jupyter-widgets/base",
            "_view_module_version": "1.2.0",
            "_view_name": "StyleView",
            "description_width": ""
          }
        },
        "7cdcf0c35d684c85b84a31b34fe95259": {
          "model_module": "@jupyter-widgets/base",
          "model_name": "LayoutModel",
          "model_module_version": "1.2.0",
          "state": {
            "_model_module": "@jupyter-widgets/base",
            "_model_module_version": "1.2.0",
            "_model_name": "LayoutModel",
            "_view_count": null,
            "_view_module": "@jupyter-widgets/base",
            "_view_module_version": "1.2.0",
            "_view_name": "LayoutView",
            "align_content": null,
            "align_items": null,
            "align_self": null,
            "border": null,
            "bottom": null,
            "display": null,
            "flex": null,
            "flex_flow": null,
            "grid_area": null,
            "grid_auto_columns": null,
            "grid_auto_flow": null,
            "grid_auto_rows": null,
            "grid_column": null,
            "grid_gap": null,
            "grid_row": null,
            "grid_template_areas": null,
            "grid_template_columns": null,
            "grid_template_rows": null,
            "height": null,
            "justify_content": null,
            "justify_items": null,
            "left": null,
            "margin": null,
            "max_height": null,
            "max_width": null,
            "min_height": null,
            "min_width": null,
            "object_fit": null,
            "object_position": null,
            "order": null,
            "overflow": null,
            "overflow_x": null,
            "overflow_y": null,
            "padding": null,
            "right": null,
            "top": null,
            "visibility": null,
            "width": null
          }
        },
        "09a0895e64c941ec9ad17b333dab9213": {
          "model_module": "@jupyter-widgets/controls",
          "model_name": "ProgressStyleModel",
          "model_module_version": "1.5.0",
          "state": {
            "_model_module": "@jupyter-widgets/controls",
            "_model_module_version": "1.5.0",
            "_model_name": "ProgressStyleModel",
            "_view_count": null,
            "_view_module": "@jupyter-widgets/base",
            "_view_module_version": "1.2.0",
            "_view_name": "StyleView",
            "bar_color": null,
            "description_width": ""
          }
        },
        "829ee0fc137e4f3fa24337e2839fd7f2": {
          "model_module": "@jupyter-widgets/base",
          "model_name": "LayoutModel",
          "model_module_version": "1.2.0",
          "state": {
            "_model_module": "@jupyter-widgets/base",
            "_model_module_version": "1.2.0",
            "_model_name": "LayoutModel",
            "_view_count": null,
            "_view_module": "@jupyter-widgets/base",
            "_view_module_version": "1.2.0",
            "_view_name": "LayoutView",
            "align_content": null,
            "align_items": null,
            "align_self": null,
            "border": null,
            "bottom": null,
            "display": null,
            "flex": null,
            "flex_flow": null,
            "grid_area": null,
            "grid_auto_columns": null,
            "grid_auto_flow": null,
            "grid_auto_rows": null,
            "grid_column": null,
            "grid_gap": null,
            "grid_row": null,
            "grid_template_areas": null,
            "grid_template_columns": null,
            "grid_template_rows": null,
            "height": null,
            "justify_content": null,
            "justify_items": null,
            "left": null,
            "margin": null,
            "max_height": null,
            "max_width": null,
            "min_height": null,
            "min_width": null,
            "object_fit": null,
            "object_position": null,
            "order": null,
            "overflow": null,
            "overflow_x": null,
            "overflow_y": null,
            "padding": null,
            "right": null,
            "top": null,
            "visibility": null,
            "width": null
          }
        },
        "6ff0620cf394458e88710e9eebc8861d": {
          "model_module": "@jupyter-widgets/controls",
          "model_name": "DescriptionStyleModel",
          "model_module_version": "1.5.0",
          "state": {
            "_model_module": "@jupyter-widgets/controls",
            "_model_module_version": "1.5.0",
            "_model_name": "DescriptionStyleModel",
            "_view_count": null,
            "_view_module": "@jupyter-widgets/base",
            "_view_module_version": "1.2.0",
            "_view_name": "StyleView",
            "description_width": ""
          }
        }
      }
    }
  },
  "cells": [
    {
      "cell_type": "markdown",
      "metadata": {
        "id": "view-in-github",
        "colab_type": "text"
      },
      "source": [
        "<a href=\"https://colab.research.google.com/github/kavyajeetbora/nlp_doc/blob/master/notebooks/03_local_LLM.ipynb\" target=\"_parent\"><img src=\"https://colab.research.google.com/assets/colab-badge.svg\" alt=\"Open In Colab\"/></a>"
      ]
    },
    {
      "cell_type": "markdown",
      "source": [
        "## Getting a local LLM\n",
        "\n",
        "How to choose the LLM model for text generation ?\n",
        "\n",
        "There are plently of models regularly been updated and open-sourced. You can check out the [hugging face leaderboard](https://huggingface.co/spaces/HuggingFaceH4/open_llm_leaderboard)\n",
        "\n",
        "However the choice of LLM also depends on the hardware that is available in the local machine\n",
        "\n",
        "Also these models occupies large disk space. It is recommened to also look for [quantized version of these models](https://huggingface.co/TheBloke)"
      ],
      "metadata": {
        "id": "zTkNo_oJskwq"
      }
    },
    {
      "cell_type": "markdown",
      "source": [
        "## Checking our local GPU memory availability\n"
      ],
      "metadata": {
        "id": "lR0kfSNrsae6"
      }
    },
    {
      "cell_type": "code",
      "source": [
        "## Install dependencies\n",
        "!pip install -q bitsandbytes\n",
        "!pip install -q accelerate\n",
        "!pip install -U -q sentence_transformers"
      ],
      "metadata": {
        "id": "fLq875UP4zBN",
        "colab": {
          "base_uri": "https://localhost:8080/"
        },
        "outputId": "6b5dc904-67db-42fb-dcf4-e7203386bc39"
      },
      "execution_count": 1,
      "outputs": [
        {
          "output_type": "stream",
          "name": "stdout",
          "text": [
            "\u001b[2K     \u001b[90m━━━━━━━━━━━━━━━━━━━━━━━━━━━━━━━━━━━━━━━━\u001b[0m \u001b[32m119.8/119.8 MB\u001b[0m \u001b[31m7.9 MB/s\u001b[0m eta \u001b[36m0:00:00\u001b[0m\n",
            "\u001b[2K     \u001b[90m━━━━━━━━━━━━━━━━━━━━━━━━━━━━━━━━━━━━━━━━\u001b[0m \u001b[32m297.4/297.4 kB\u001b[0m \u001b[31m6.9 MB/s\u001b[0m eta \u001b[36m0:00:00\u001b[0m\n",
            "\u001b[2K     \u001b[90m━━━━━━━━━━━━━━━━━━━━━━━━━━━━━━━━━━━━━━━━\u001b[0m \u001b[32m163.3/163.3 kB\u001b[0m \u001b[31m5.0 MB/s\u001b[0m eta \u001b[36m0:00:00\u001b[0m\n",
            "\u001b[?25h"
          ]
        }
      ]
    },
    {
      "cell_type": "code",
      "source": [
        "import torch\n",
        "import pandas as pd\n",
        "import numpy as np\n",
        "from transformers import AutoTokenizer, AutoModelForCausalLM\n",
        "from transformers.utils import is_flash_attn_2_available\n",
        "from transformers import BitsAndBytesConfig\n",
        "\n",
        "from sentence_transformers import SentenceTransformer, util"
      ],
      "metadata": {
        "id": "rhIB2YhPs2QE"
      },
      "execution_count": 2,
      "outputs": []
    },
    {
      "cell_type": "code",
      "source": [
        "device = 'cuda' if torch.cuda.is_available() else 'cpu'\n",
        "device"
      ],
      "metadata": {
        "colab": {
          "base_uri": "https://localhost:8080/",
          "height": 35
        },
        "id": "fAg3ODShtfk0",
        "outputId": "96070b27-c102-4ed8-8944-8a1e8daefbbd"
      },
      "execution_count": 3,
      "outputs": [
        {
          "output_type": "execute_result",
          "data": {
            "text/plain": [
              "'cuda'"
            ],
            "application/vnd.google.colaboratory.intrinsic+json": {
              "type": "string"
            }
          },
          "metadata": {},
          "execution_count": 3
        }
      ]
    },
    {
      "cell_type": "code",
      "execution_count": 4,
      "metadata": {
        "id": "FbcB_qCisZrh",
        "colab": {
          "base_uri": "https://localhost:8080/"
        },
        "outputId": "2cbf3bc9-a323-4998-e342-76bf9ae4533b"
      },
      "outputs": [
        {
          "output_type": "stream",
          "name": "stdout",
          "text": [
            "Available GPU memory: 15 GB\n"
          ]
        }
      ],
      "source": [
        "if torch.cuda.is_available():\n",
        "    gpu_memory_bytes = torch.cuda.get_device_properties(0).total_memory\n",
        "    gpu_memory_gb = round(gpu_memory_bytes / (2**30))\n",
        "    print(f\"Available GPU memory: {gpu_memory_gb} GB\")\n",
        "else:\n",
        "    print(\"No GPU available at the moment, Running on CPU\")"
      ]
    },
    {
      "cell_type": "markdown",
      "source": [
        "## Loading an LLM Locally\n",
        "\n",
        "We can load open-source LLM models from [HuggingFace](https://huggingface.co/)\n",
        "\n",
        "The model that we are going to use is `google gemma-2b-it`.\n",
        "\n",
        "Gemma can run on a CPU, GPU and TPU. For GPU, we recommend a 8GB+ RAM on GPU for the 2B checkpoint and 24GB+ RAM on GPU for the 7B checkpoint.\n",
        "\n",
        "To get a model running locally, we need few things:\n",
        "1. A quantization cofig (optional) - a config on what precision to load the model in (eg. 8bit, 4bit, etc)\n",
        "2. A model ID: this will tell transformer which model/tokenizer to load\n",
        "3. A tokenizer: this turns the text into numbers ready for the LLM (note: tokenizer is different from an embedding model)\n",
        "4. A LLM model: this will be what use to generate the text based on the input prompt\n",
        "\n",
        "**Note:** There are many tips and tricks on loading/making LLMs work faster. One of the best ones is flash_attn (Flash Attention 2). See the [github repo](https://github.com/Dao-AILab/flash-attention)\n",
        "\n"
      ],
      "metadata": {
        "id": "sFEkL_3buGPz"
      }
    },
    {
      "cell_type": "markdown",
      "source": [
        "## HuggingFace API login"
      ],
      "metadata": {
        "id": "-tX54U7U5Xce"
      }
    },
    {
      "cell_type": "code",
      "source": [
        "from huggingface_hub import notebook_login\n",
        "notebook_login()"
      ],
      "metadata": {
        "colab": {
          "base_uri": "https://localhost:8080/",
          "height": 145,
          "referenced_widgets": [
            "0d124fc6dcbf46f7894fb0b142c4016f",
            "c68779a4f941478daaa47de3e4bc41e9",
            "69462db90b59411fae82c151b976ebd0",
            "f454e33fda0745bc9c2b21c4cc734088",
            "9eab816ad538403087d4a29e5f9823a5",
            "d0a4c6cb75d44a63ae883f816caf16b9",
            "7326dedc597347939a532773ee42c512",
            "e6f7eb6189434c5687aec8e20b0ddf81",
            "0e534103874d4828a1c1c843e0d6f098",
            "771a67bca3ed4a97b2c5b97160ca4791",
            "89072a74667b403491881efa78af753d",
            "81eac4bdcf3743d5a4a5b6e144cfde9a",
            "d4a5d5b34b334c1581a97fe0c2a610d3",
            "b295fcaac33e4cfdb281427e5d9998b7",
            "a7b1e102a91a4f85b197368d148dff3c",
            "8be4e084383d463aa7c646e867a8c8ff",
            "f255c194deb44a9ca3f63543aed3c9fe",
            "a649d4f4966c4364a198e063d5072806",
            "7c9f7cc117464dda9fa32ae812e1a95a",
            "6d060c7be8454f09bcb9ab0b7c238e2a",
            "dd9a03e386f147c1a4d3ea4a02353c6b",
            "1fc6a3380f2b471ba78c93671c72370e",
            "588e909302264d49b3567214970825f1",
            "760062d51cf048daba2a54a8a0aacc94",
            "f865bfa8846d422db807db02c9dba533",
            "9b610a12d6734b5393158a031b2db71e",
            "f146eb4035044228b6b806903dbaac55",
            "1ab5e9841ca54214aad8990b1ede1cb4",
            "5c41e5fce02447d7ae8f911e590a21e2",
            "cc6e9d2d9ecf4763a06c02dd47889194",
            "9eaad8adbd2b487d87d329f13c506cc2",
            "195ef0d9caed4091b0c5377ea41c89b1"
          ]
        },
        "id": "DzywAuAp2NJm",
        "outputId": "84c1b4bb-a7f5-4f0b-e9be-81230bb4f6b3"
      },
      "execution_count": null,
      "outputs": [
        {
          "output_type": "display_data",
          "data": {
            "text/plain": [
              "VBox(children=(HTML(value='<center> <img\\nsrc=https://huggingface.co/front/assets/huggingface_logo-noborder.sv…"
            ],
            "application/vnd.jupyter.widget-view+json": {
              "version_major": 2,
              "version_minor": 0,
              "model_id": "0d124fc6dcbf46f7894fb0b142c4016f"
            }
          },
          "metadata": {}
        }
      ]
    },
    {
      "cell_type": "code",
      "source": [
        "from transformers import pipeline\n",
        "\n",
        "gemma_pipeline = pipeline(\n",
        "                    model=\"google/gemma-2b-it\",\n",
        "                    torch_dtype=torch.bfloat16,\n",
        "                    trust_remote_code=True,\n",
        "                    device_map='auto'\n",
        "                )"
      ],
      "metadata": {
        "colab": {
          "base_uri": "https://localhost:8080/",
          "height": 173,
          "referenced_widgets": [
            "8327cffd81f54d2282d5033a3b0b7127",
            "8467c5906d6e4e50a2386af383466c32",
            "bcbb049c8c8b460993b7c4fa9d93dd1b",
            "79b6b0951554495bb3ade153bd6d1690",
            "e1b9428c026a4bde819b0d616f3622e2",
            "7054c3f52dc548399840ea11bb590423",
            "3b1456ce2b4042178a1b206f696ca9f9",
            "a2ace1c0129f453e82a96d5d66ddbde1",
            "e8f23d385c7a4a7884e418ba8fe5bf2f",
            "6a532d4c4ea84b84985816c7c835f69f",
            "f781644487c14ec5af3c0c71024eccb7"
          ]
        },
        "id": "roTZ_o-m0_ay",
        "outputId": "a3bfd3b0-8568-40d6-b18a-40eca30067b9"
      },
      "execution_count": null,
      "outputs": [
        {
          "output_type": "stream",
          "name": "stderr",
          "text": [
            "/usr/local/lib/python3.10/dist-packages/huggingface_hub/utils/_token.py:88: UserWarning: \n",
            "The secret `HF_TOKEN` does not exist in your Colab secrets.\n",
            "To authenticate with the Hugging Face Hub, create a token in your settings tab (https://huggingface.co/settings/tokens), set it as secret in your Google Colab and restart your session.\n",
            "You will be able to reuse this secret in all of your notebooks.\n",
            "Please note that authentication is recommended but still optional to access public models or datasets.\n",
            "  warnings.warn(\n"
          ]
        },
        {
          "output_type": "display_data",
          "data": {
            "text/plain": [
              "Loading checkpoint shards:   0%|          | 0/2 [00:00<?, ?it/s]"
            ],
            "application/vnd.jupyter.widget-view+json": {
              "version_major": 2,
              "version_minor": 0,
              "model_id": "8327cffd81f54d2282d5033a3b0b7127"
            }
          },
          "metadata": {}
        }
      ]
    },
    {
      "cell_type": "code",
      "source": [
        "## 1. Create a quantized version of the model\n",
        "## create a quantization config\n",
        "quantization_config = BitsAndBytesConfig(load_in_4bit=True, bnb_4bit_compute_dtype=torch.float16)\n",
        "\n",
        "## 2. pick the model you want from hugging face\n",
        "model_id = \"google/gemma-2b-it\"\n",
        "\n",
        "## 3. instantiate the tokenizer (tokenizer turns text into tokens)\n",
        "tokenizer = AutoTokenizer.from_pretrained(model_id)\n",
        "\n",
        "## 4. Instantiate the model\n",
        "llm_model = AutoModelForCausalLM.from_pretrained(\n",
        "    pretrained_model_name_or_path = model_id,\n",
        "    torch_dtype=torch.float16,\n",
        "    quantization_config=quantization_config,\n",
        "    low_cpu_mem_usage=False,\n",
        "    attn_implementation = 'sdpa' ## You can use flash_accerlerate here to make it faster\n",
        ")"
      ],
      "metadata": {
        "colab": {
          "base_uri": "https://localhost:8080/",
          "height": 49,
          "referenced_widgets": [
            "4296fc3975cd4a10966606bd863330d0",
            "9e73755f16684d159ab22065b8fb60bf",
            "2157931654364aa1979da15ebd1a207c",
            "bcd3d9572a5c4883a7e274a04323b7d5",
            "6fbf592623f842c0a66e948acb5ddeb5",
            "3b8c2593703649c1bfe8875a4e10653c",
            "b4e3f18ab0084e80a6eb8d20e205ed84",
            "7cdcf0c35d684c85b84a31b34fe95259",
            "09a0895e64c941ec9ad17b333dab9213",
            "829ee0fc137e4f3fa24337e2839fd7f2",
            "6ff0620cf394458e88710e9eebc8861d"
          ]
        },
        "id": "TZHhIq3Ztp0O",
        "outputId": "66891386-896e-435f-a2e2-4d6749345749"
      },
      "execution_count": null,
      "outputs": [
        {
          "output_type": "display_data",
          "data": {
            "text/plain": [
              "Loading checkpoint shards:   0%|          | 0/2 [00:00<?, ?it/s]"
            ],
            "application/vnd.jupyter.widget-view+json": {
              "version_major": 2,
              "version_minor": 0,
              "model_id": "4296fc3975cd4a10966606bd863330d0"
            }
          },
          "metadata": {}
        }
      ]
    },
    {
      "cell_type": "code",
      "source": [
        "torch.backends.cuda.enable_flash_sdp(True)"
      ],
      "metadata": {
        "id": "RCq5ZdhPxt2F"
      },
      "execution_count": null,
      "outputs": []
    },
    {
      "cell_type": "markdown",
      "source": [
        "check the cuda gpu capability\n",
        "\n",
        "Resource: https://developer.nvidia.com/cuda-gpus"
      ],
      "metadata": {
        "id": "DfM6nRs0BcQo"
      }
    },
    {
      "cell_type": "code",
      "source": [
        "torch.cuda.get_device_capability(0)"
      ],
      "metadata": {
        "colab": {
          "base_uri": "https://localhost:8080/"
        },
        "id": "u-irDyfRxjMI",
        "outputId": "06e3f719-4b01-495c-85ad-19765c289549"
      },
      "execution_count": null,
      "outputs": [
        {
          "output_type": "execute_result",
          "data": {
            "text/plain": [
              "(7, 5)"
            ]
          },
          "metadata": {},
          "execution_count": 11
        }
      ]
    },
    {
      "cell_type": "markdown",
      "source": [
        "## Model Description"
      ],
      "metadata": {
        "id": "iOr7sqMEBvjx"
      }
    },
    {
      "cell_type": "code",
      "source": [
        "num_params = sum([param.numel() for param in llm_model.parameters()])/10**9\n",
        "mem_params = sum([param.nelement() * param.element_size() for param in llm_model.parameters()])/1024**2\n",
        "mem_buffers = sum([buf.nelement() * buf.element_size() for buf in llm_model.parameters()])/1024**2\n",
        "model_mem_mb = mem_params+mem_buffers\n",
        "\n",
        "print(f\"Number of parameters in the model {num_params:.2f}\")\n",
        "print(f\"model memory: {mem_params:.2f} MB\")"
      ],
      "metadata": {
        "colab": {
          "base_uri": "https://localhost:8080/"
        },
        "id": "hu3UJZNlByym",
        "outputId": "d880c594-67ca-451c-f2d4-e2ec27df9b29"
      },
      "execution_count": null,
      "outputs": [
        {
          "output_type": "stream",
          "name": "stdout",
          "text": [
            "Number of parameters in the model 1.52\n",
            "model memory: 1945.14 MB\n"
          ]
        }
      ]
    },
    {
      "cell_type": "markdown",
      "source": [
        "This means to load gemma-2b model with float16 we need minimum of 2GB of VRAM. But we need to keep in mind that we need some more memory for doing the forward pass with the model to generate text\n",
        "\n",
        "\n",
        "## Generating text with our LLM\n",
        "\n",
        "\n"
      ],
      "metadata": {
        "id": "w39Jz4DwDIYR"
      }
    },
    {
      "cell_type": "code",
      "source": [
        "input_text = \"List down some healthy food for breakfast\"\n",
        "\n",
        "print(f\"Input text:\\n{input_text}\")\n",
        "\n",
        "## Create the prompt template for instruction-tuned model\n",
        "\n",
        "dialogue_template = [\n",
        "    {\"role\": \"user\",\n",
        "     \"content\": input_text}\n",
        "]\n",
        "\n",
        "prompt = tokenizer.apply_chat_template(\n",
        "    conversation=dialogue_template,\n",
        "    tokenize=False,\n",
        "    add_generation_prompt=True\n",
        ")\n",
        "\n",
        "prompt"
      ],
      "metadata": {
        "colab": {
          "base_uri": "https://localhost:8080/",
          "height": 245
        },
        "id": "MmiEl-sQDdg3",
        "outputId": "ab3580ba-10e0-4fee-f06c-c2fc032d7788"
      },
      "execution_count": 5,
      "outputs": [
        {
          "output_type": "stream",
          "name": "stdout",
          "text": [
            "Input text:\n",
            "List down some healthy food for breakfast\n"
          ]
        },
        {
          "output_type": "error",
          "ename": "NameError",
          "evalue": "name 'tokenizer' is not defined",
          "traceback": [
            "\u001b[0;31m---------------------------------------------------------------------------\u001b[0m",
            "\u001b[0;31mNameError\u001b[0m                                 Traceback (most recent call last)",
            "\u001b[0;32m<ipython-input-5-13548d003b2a>\u001b[0m in \u001b[0;36m<cell line: 12>\u001b[0;34m()\u001b[0m\n\u001b[1;32m     10\u001b[0m ]\n\u001b[1;32m     11\u001b[0m \u001b[0;34m\u001b[0m\u001b[0m\n\u001b[0;32m---> 12\u001b[0;31m prompt = tokenizer.apply_chat_template(\n\u001b[0m\u001b[1;32m     13\u001b[0m     \u001b[0mconversation\u001b[0m\u001b[0;34m=\u001b[0m\u001b[0mdialogue_template\u001b[0m\u001b[0;34m,\u001b[0m\u001b[0;34m\u001b[0m\u001b[0;34m\u001b[0m\u001b[0m\n\u001b[1;32m     14\u001b[0m     \u001b[0mtokenize\u001b[0m\u001b[0;34m=\u001b[0m\u001b[0;32mFalse\u001b[0m\u001b[0;34m,\u001b[0m\u001b[0;34m\u001b[0m\u001b[0;34m\u001b[0m\u001b[0m\n",
            "\u001b[0;31mNameError\u001b[0m: name 'tokenizer' is not defined"
          ]
        }
      ]
    },
    {
      "cell_type": "markdown",
      "source": [
        "Tokenize the text and send it to device"
      ],
      "metadata": {
        "id": "IsUHMIOMFAhy"
      }
    },
    {
      "cell_type": "code",
      "source": [
        "tokenizer"
      ],
      "metadata": {
        "id": "XyuW9xYOE69g",
        "outputId": "383f5774-d700-4ec4-8c8e-1b2d179e4420",
        "colab": {
          "base_uri": "https://localhost:8080/"
        }
      },
      "execution_count": null,
      "outputs": [
        {
          "output_type": "execute_result",
          "data": {
            "text/plain": [
              "GemmaTokenizerFast(name_or_path='google/gemma-2b-it', vocab_size=256000, model_max_length=1000000000000000019884624838656, is_fast=True, padding_side='left', truncation_side='right', special_tokens={'bos_token': '<bos>', 'eos_token': '<eos>', 'unk_token': '<unk>', 'pad_token': '<pad>', 'additional_special_tokens': ['<start_of_turn>', '<end_of_turn>']}, clean_up_tokenization_spaces=False),  added_tokens_decoder={\n",
              "\t0: AddedToken(\"<pad>\", rstrip=False, lstrip=False, single_word=False, normalized=False, special=True),\n",
              "\t1: AddedToken(\"<eos>\", rstrip=False, lstrip=False, single_word=False, normalized=False, special=True),\n",
              "\t2: AddedToken(\"<bos>\", rstrip=False, lstrip=False, single_word=False, normalized=False, special=True),\n",
              "\t3: AddedToken(\"<unk>\", rstrip=False, lstrip=False, single_word=False, normalized=False, special=True),\n",
              "\t106: AddedToken(\"<start_of_turn>\", rstrip=False, lstrip=False, single_word=False, normalized=False, special=True),\n",
              "\t107: AddedToken(\"<end_of_turn>\", rstrip=False, lstrip=False, single_word=False, normalized=False, special=True),\n",
              "}"
            ]
          },
          "metadata": {},
          "execution_count": 22
        }
      ]
    },
    {
      "cell_type": "code",
      "source": [
        "input_ids = tokenizer(prompt, return_tensors='pt').to(device)\n",
        "input_ids"
      ],
      "metadata": {
        "id": "Ldx9MT1CFIKv",
        "outputId": "5640d145-0710-49d6-ebc2-6e1e39d45005",
        "colab": {
          "base_uri": "https://localhost:8080/"
        }
      },
      "execution_count": null,
      "outputs": [
        {
          "output_type": "execute_result",
          "data": {
            "text/plain": [
              "{'input_ids': tensor([[    2,     2,   106,  1645,   108,  1268,  1706,  1009,  9606,  2960,\n",
              "           604, 14457,   107,   108,   106,  2516,   108]], device='cuda:0'), 'attention_mask': tensor([[1, 1, 1, 1, 1, 1, 1, 1, 1, 1, 1, 1, 1, 1, 1, 1, 1]], device='cuda:0')}"
            ]
          },
          "metadata": {},
          "execution_count": 23
        }
      ]
    },
    {
      "cell_type": "markdown",
      "source": [
        "Generate the outputs from local LLM\n"
      ],
      "metadata": {
        "id": "L3RbLZ4CFWdN"
      }
    },
    {
      "cell_type": "code",
      "source": [
        "outputs = llm_model.generate(**input_ids, max_new_tokens=256)\n",
        "print(f\"Model output (tokens):\\n{outputs[0]}\\n\")"
      ],
      "metadata": {
        "id": "UHDSSrqSFVnf",
        "outputId": "7a5fc617-6f39-4817-cc0c-f1a3c18458eb",
        "colab": {
          "base_uri": "https://localhost:8080/"
        }
      },
      "execution_count": null,
      "outputs": [
        {
          "output_type": "stream",
          "name": "stdout",
          "text": [
            "Model output (tokens):\n",
            "tensor([     2,      2,    106,   1645,    108,   1268,   1706,   1009,   9606,\n",
            "          2960,    604,  14457,    107,    108,    106,   2516,    108,  21404,\n",
            "        235269,   1517,    708,   1009,   9606,  14457,   2960,   5793, 235292,\n",
            "           109, 235274, 235265, 186986,    675,  46051,    578,  22606,    108,\n",
            "        235284, 235265,  41326, 235290,  78346,  33611,    675,  54154,  10605,\n",
            "           578,  31985,    108, 235304, 235265,  15556,  50162,    675,   9471,\n",
            "           578, 145197,    108, 235310, 235265, 169685,    675,  16803, 235269,\n",
            "         19574, 235269,    578,  50162,    108, 235308, 235265,  41326, 235290,\n",
            "         78346,  71531,    675,  61449,  10605,    578,   9471,    108, 235318,\n",
            "        235265, 186986,    675,  54269,  15741, 235269,  22606, 235269,    578,\n",
            "          9471,    108, 235324, 235265, 217675, 122149,    675,   9471,    578,\n",
            "         22606,    108, 235321, 235265,  41326, 235290,  78346,  57289,    675,\n",
            "          9512,    578,   9471,    108, 235315, 235265,  15556,  50162,    675,\n",
            "         33933,  13624,    578,   9471,    108, 235274, 235276, 235265,  41326,\n",
            "        235290,  78346,  92481,    675,   9471,    578,  22606,      1],\n",
            "       device='cuda:0')\n",
            "\n"
          ]
        }
      ]
    },
    {
      "cell_type": "markdown",
      "source": [
        "Decode the output tokens to text"
      ],
      "metadata": {
        "id": "ZUAoeUHjGUoL"
      }
    },
    {
      "cell_type": "code",
      "source": [
        "text_gen = tokenizer.decode(outputs[0])\n",
        "print(f\"Text generated:\\n{text_gen}\")"
      ],
      "metadata": {
        "id": "g7TgyG99F4T5",
        "outputId": "c03e35f8-7869-4c8d-e1de-eb1b078e87ef",
        "colab": {
          "base_uri": "https://localhost:8080/"
        }
      },
      "execution_count": null,
      "outputs": [
        {
          "output_type": "stream",
          "name": "stdout",
          "text": [
            "Text generated:\n",
            "<bos><bos><start_of_turn>user\n",
            "List down some healthy food for breakfast<end_of_turn>\n",
            "<start_of_turn>model\n",
            "Sure, here are some healthy breakfast food ideas:\n",
            "\n",
            "1. Oatmeal with berries and nuts\n",
            "2. Whole-wheat toast with peanut butter and banana\n",
            "3. Greek yogurt with fruit and granola\n",
            "4. Smoothie with fruits, vegetables, and yogurt\n",
            "5. Whole-wheat pancakes with almond butter and fruit\n",
            "6. Oatmeal with chia seeds, nuts, and fruit\n",
            "7. Quinoa porridge with fruit and nuts\n",
            "8. Whole-wheat cereal with milk and fruit\n",
            "9. Greek yogurt with cottage cheese and fruit\n",
            "10. Whole-wheat muffins with fruit and nuts<eos>\n"
          ]
        }
      ]
    },
    {
      "cell_type": "markdown",
      "source": [
        "As a next step after setting up the local llm, we will now augment the prompt with more relevant passages this is also called prompt engineering, But before that let's set up the retrieval pipeline before we build the augmentation pipeline."
      ],
      "metadata": {
        "id": "oQ_-1ZmBjPs6"
      }
    },
    {
      "cell_type": "markdown",
      "source": [
        "## Retrieval Pipeline\n",
        "\n",
        "Let's build the functionized retrieval pipeline from our previous notebook"
      ],
      "metadata": {
        "id": "KqSurhkBjCfB"
      }
    },
    {
      "cell_type": "code",
      "source": [
        "# Download the embeddings of the pdf\n",
        "!wget https://github.com/kavyajeetbora/nlp_doc/raw/master/data/doc_embeddings.parquet -O \"doc_embeddings.parquet\"\n",
        "\n",
        "## Load the pandas dataframe from the parquet file\n",
        "df = pd.read_parquet('doc_embeddings.parquet')\n",
        "\n",
        "# Extract the text embeddings from the dataframe\n",
        "a = np.stack(df['embedding'].to_list(), axis=0)\n",
        "embedding  = torch.tensor(a).to(device)"
      ],
      "metadata": {
        "id": "loeayyQmGiF6",
        "colab": {
          "base_uri": "https://localhost:8080/"
        },
        "outputId": "5a6beade-90e6-4b3f-fb36-4c9555bbcd40"
      },
      "execution_count": 6,
      "outputs": [
        {
          "output_type": "stream",
          "name": "stdout",
          "text": [
            "--2024-04-16 14:56:50--  https://github.com/kavyajeetbora/nlp_doc/raw/master/data/doc_embeddings.parquet\n",
            "Resolving github.com (github.com)... 140.82.116.4\n",
            "Connecting to github.com (github.com)|140.82.116.4|:443... connected.\n",
            "HTTP request sent, awaiting response... 302 Found\n",
            "Location: https://raw.githubusercontent.com/kavyajeetbora/nlp_doc/master/data/doc_embeddings.parquet [following]\n",
            "--2024-04-16 14:56:51--  https://raw.githubusercontent.com/kavyajeetbora/nlp_doc/master/data/doc_embeddings.parquet\n",
            "Resolving raw.githubusercontent.com (raw.githubusercontent.com)... 185.199.108.133, 185.199.109.133, 185.199.110.133, ...\n",
            "Connecting to raw.githubusercontent.com (raw.githubusercontent.com)|185.199.108.133|:443... connected.\n",
            "HTTP request sent, awaiting response... 200 OK\n",
            "Length: 3922167 (3.7M) [application/octet-stream]\n",
            "Saving to: ‘doc_embeddings.parquet’\n",
            "\n",
            "doc_embeddings.parq 100%[===================>]   3.74M  --.-KB/s    in 0.05s   \n",
            "\n",
            "2024-04-16 14:56:51 (72.2 MB/s) - ‘doc_embeddings.parquet’ saved [3922167/3922167]\n",
            "\n"
          ]
        }
      ]
    },
    {
      "cell_type": "markdown",
      "source": [
        "Retrieval: Define the semantic search pipeline\n",
        "\n"
      ],
      "metadata": {
        "id": "m-zW5zTYd04k"
      }
    },
    {
      "cell_type": "code",
      "source": [
        "class RetrievalPipeline():\n",
        "\n",
        "    def __init__(self, data_frame:pd.DataFrame, device):\n",
        "        self.df = data_frame\n",
        "        a = np.stack(self.df['embedding'].to_list(), axis=0)\n",
        "        self.embeddings = torch.tensor(a).to(device)\n",
        "        self.embedding_model = SentenceTransformer('all-MiniLM-L6-v2', device=device)\n",
        "        self.device = device\n",
        "\n",
        "    def retrieve_relevant_text(self, query,k=5):\n",
        "\n",
        "        ## Encode the query with the same embedding model\n",
        "        query_encode = self.embedding_model.encode(query, convert_to_tensor=True).to(self.device)\n",
        "\n",
        "        ## Get similarity scores\n",
        "        sim_score = util.dot_score(a=query_encode, b=self.embeddings)\n",
        "        ## get the top 5 values\n",
        "        vals, indices = torch.topk(sim_score, k=k)\n",
        "\n",
        "        ## flatten, detach from GPU and return an numpy array\n",
        "        vals, indices = vals.cpu().numpy().flatten(), indices.cpu().numpy().flatten()\n",
        "\n",
        "        ## After retrieving the indices, get the text from the dataframe\n",
        "        context_items = [self.df.loc[i, 'sentence_chunk'] for i in indices]\n",
        "\n",
        "        return context_items\n",
        "\n",
        "    def prompt_formatter(self, query:str, k=5) -> str:\n",
        "\n",
        "        context_items = rp.retrieve_relevant_text(query, k=k)\n",
        "        context = \"These are some context:\\n - \"\n",
        "        context += \"\\n - \".join(context_items)\n",
        "        prompt = f'''\n",
        "{context}\n",
        "Referring to the context above, please answer the following query:\n",
        "{query}\n",
        "\n",
        "Answer:\n",
        "'''\n",
        "        return prompt"
      ],
      "metadata": {
        "id": "0n49EcTFd6Hg"
      },
      "execution_count": 43,
      "outputs": []
    },
    {
      "cell_type": "code",
      "source": [
        "rp = RetrievalPipeline(df, device)"
      ],
      "metadata": {
        "id": "raNiEa9JgrK0"
      },
      "execution_count": 44,
      "outputs": []
    },
    {
      "cell_type": "code",
      "source": [
        "query = \"What are the benefits of having oats ?\"\n",
        "context_items = rp.retrieve_relevant_text(query, k=2)\n",
        "context_items"
      ],
      "metadata": {
        "colab": {
          "base_uri": "https://localhost:8080/"
        },
        "id": "5eTZwz6JhJOA",
        "outputId": "2745ffbf-e99e-4b7e-941e-9667c83bc048"
      },
      "execution_count": 45,
      "outputs": [
        {
          "output_type": "execute_result",
          "data": {
            "text/plain": [
              "['Journal concluded that all diets, (independent of carbohydrate, fat, and protein content) that incorporated an exercise regimen significantly decreased weight and waist circumference in obese women.6 Some studies do provide evidence that in comparison to other diets, low-carbohydrate diets improve insulin levels and other risk factors for Type 2 diabetes and cardiovascular disease. The overall scientific consensus is that consuming fewer calories in a balanced diet will promote health and stimulate weight loss, with significantly better results achieved when combined with regular exercise. Health Benefits of Whole Grains in the Diet While excessive consumption of simple carbohydrates is potentially bad for your health, consuming more complex carbohydrates is extremely beneficial to health. There is a wealth of scientific evidence supporting that replacing refined grains with whole grains decreases the risk for obesity, Type 2 diabetes, and cardiovascular disease. Whole grains are great dietary sources of fiber, vitamins, minerals, healthy fats, and a vast amount of beneficial plant chemicals, all of which contribute to the effects of whole grains on health. Eating a high-fiber meal as compared to a low-fiber 6.\\xa0Kerksick CM, Wismann-Bunn J, et al. (2010). Changes in Weight Loss, Body Composition, and Cardiovascular Disease Risk after Altering Macronutrient Distributions During a Regular Exercise Program in Obese Women. The Journal of Nutrition,\\xa09(59).',\n",
              " 'grain products daily were 30 percent less likely to have a heart attack.8 The AHA makes the following statements on whole grains9: • “Dietary fiber from whole grains, as part of an overall healthy diet, helps reduce blood cholesterol levels and may lower risk of heart disease.” • “Fiber-containing foods, such as whole grains, help provide a feeling of fullness with fewer calories and may help with weight management.” Figure 4.15 Grain Consumption Statistics in America 8.\\xa0Liu S, Stampfer MJ, et al. (1999). Whole-Grain Consumption and Risk of Coronary Heart Disease: Results from the Nurses’ Health Study. American Journal of Clinical Nutrition,\\xa070(3), 412–19.http:/ /www.ajcn.org/ content/70/3/412.long. Accessed September 27, 2017. 9.']"
            ]
          },
          "metadata": {},
          "execution_count": 45
        }
      ]
    },
    {
      "cell_type": "markdown",
      "source": [
        "Now augment the prompt with context:"
      ],
      "metadata": {
        "id": "jmF2WoWIdNLa"
      }
    },
    {
      "cell_type": "code",
      "source": [
        "query = 'What are some good sources of dietary fibre ?'\n",
        "prompt = rp.prompt_formatter(query,k=2)\n",
        "print(prompt)"
      ],
      "metadata": {
        "id": "grj7EirCdM3R",
        "outputId": "071d7b67-053b-45f4-b348-d273f0f74317",
        "colab": {
          "base_uri": "https://localhost:8080/"
        }
      },
      "execution_count": 46,
      "outputs": [
        {
          "output_type": "stream",
          "name": "stdout",
          "text": [
            "\n",
            "These are some context:\n",
            " - Dietary fiber is categorized as either water-soluble or insoluble. Some examples of soluble fibers are inulin, pectin, and guar gum and they are found in peas, beans, oats, barley, and rye. Cellulose and lignin are insoluble fibers and a few dietary sources of them are whole-grain foods, flax, cauliflower, and avocados. Cellulose is the most abundant fiber in plants, making up the cell walls and providing structure. Soluble fibers are more easily accessible to bacterial enzymes in the large intestine so they can be broken down to a greater extent than insoluble fibers, but even some breakdown of cellulose and other insoluble fibers occurs. The last class of fiber is functional fiber. Functional fibers have been added to foods and have been shown to provide health benefits to humans. Functional fibers may be extracted from plants and purified or synthetically made. An example of a functional fiber is psyllium-seed husk. Scientific studies show that consuming psyllium-seed husk reduces blood-cholesterol levels and this health claim has been approved by the FDA.\n",
            " - Humans and animals store glucose energy from starches in the form of the very large molecule, glycogen. It has many branches that allow it to break down quickly when energy is needed by cells in the body. It is predominantly found in liver and muscle tissue in animals. Dietary Fibers Dietary fibers are polysaccharides that are highly branched and cross-linked. Some dietary fibers are pectin, gums, cellulose, hemicellulose, and lignin. Lignin, however, is not composed of carbohydrate units. Humans do not produce the enzymes that can break down dietary fiber; however, bacteria in the large intestine (colon) do. Dietary fibers are very beneficial to our health. The Dietary Guidelines Advisory Committee states that there is enough scientific evidence to support that diets high in fiber reduce the risk for obesity and diabetes, which are primary risk factors for cardiovascular disease.2 2. US Department of Agriculture. \n",
            "Referring to the context above, please answer the following query: \n",
            "What are some good sources of dietary fibre ?\n",
            "\n",
            "Answer:\n",
            "\n"
          ]
        }
      ]
    },
    {
      "cell_type": "markdown",
      "source": [
        "## Augmenting our prompt with context items\n",
        "\n",
        "Text generation was done in the previous section,  now it is the time to augment.\n",
        "\n",
        "The concept of augmenting a prompt with context text items is also referred as prompt engineering\n",
        "\n",
        "Prompt engineering is an active field of research and many new styles and techniques are being found out. There are few techniques that work quite well\n",
        "\n",
        "1. https://www.promptingguide.ai/\n",
        "2. [Brex's Prompt Engineering Guide](https://github.com/brexhq/prompt-engineering)\n",
        "3. [Prompt engineering for business performance](https://www.anthropic.com/news/prompt-engineering-for-business-performance)\n",
        "\n",
        "\n",
        "In this section, we are going to use a couple of prompting techniques:\n",
        "1. Give clear instructions\n",
        "2. Give few examples of input/output (for example this is my input and I want output like this)\n",
        "3. Give room to think\n",
        "\n",
        "Let's create a function to format a prompt with context items\n",
        "\n",
        "Example:\n",
        "\n",
        "> Based on the following context:\n",
        "> - asncacakca\n",
        "> - ascnankca\n",
        "> - jqfopqopa\n",
        "> - aknsqopwq\n",
        "\n",
        "> Please answer the following query: What are the macronutrients and what do they do?\n",
        "\n",
        "> Answer:\n",
        "\n",
        "\n"
      ],
      "metadata": {
        "id": "d7MhrXoaHoNA"
      }
    },
    {
      "cell_type": "code",
      "source": [
        "def prompt_formatter(query:str, rp:RetrievalPipeline) -> str:\n",
        "\n",
        "    context_items = rp.retrieve_relevant_text(query, k=5)\n",
        "    context = \"These are some context:\\n - \"\n",
        "    context += \"\\n - \".join(context_items)\n",
        "    prompt = f'''\n",
        "{context}\n",
        "Please answer the following query:\n",
        "{query}\n",
        "\n",
        "Answer:\n",
        "'''\n",
        "    return prompt\n",
        "\n",
        "\n",
        "query = \"List down some foods which are high in protein\"\n",
        "print(prompt_formatter(query, rp))"
      ],
      "metadata": {
        "id": "afNUXTwkjOPw",
        "outputId": "121bc5a5-90ba-4b5a-b734-0f54eef16159",
        "colab": {
          "base_uri": "https://localhost:8080/"
        }
      },
      "execution_count": 36,
      "outputs": [
        {
          "output_type": "stream",
          "name": "stdout",
          "text": [
            "\n",
            "These are some context:\n",
            " - Dietary Sources of Protein The protein food group consists of foods made from meat, seafood, poultry, eggs, soy, dry beans, peas, and seeds. According to the Harvard School of Public Health, “animal protein and vegetable protein probably have the same effects on health. It’s the protein package that’s likely to make a difference.”1 1. Protein: The Bottom Line. Harvard School of Public Proteins, Diet, and Personal Choices | 411\n",
            " - 18.9 5.4 200 454 Tuna 3 oz. (canned) 21.7 0.2 26 99 Soybeans 1 c. (boiled) 29.0 2.2 0 298 Lentils 1 c. (boiled) 17.9 0.1 0 226 Kidney beans 1 c. (canned) 13.5 0.2 0 215 Sunflower seeds 1 c. 9.6 2.0 0 269 The USDA provides some tips for choosing your dietary protein sources. Their motto is, “Go Lean with Protein”. The overall suggestion is to eat a variety of protein-rich foods to benefit health. The USDA recommends lean meats, such as round steaks, top sirloin, extra lean ground beef, pork loin, and skinless chicken. Proteins, Diet, and Personal Choices | 413\n",
            " - Additionally, a person should consume 8 ounces of cooked seafood every week (typically as two 4-ounce servings) to assure they are getting the healthy omega-3 fatty acids that have been linked to a lower risk for heart disease. Another tip is choosing to eat dry beans, peas, or soy products as a main dish. Some of the menu choices include chili with kidney and pinto beans, hummus on pita bread, and black bean enchiladas. You could also enjoy nuts in a variety of ways. You can put them on a salad, in a stir-fry, or use them as a topping for steamed vegetables in place of meat or cheese. If you do not eat meat, the USDA has much more information on how to get all the protein you need from a plant-based diet. When choosing the best protein-rich foods to eat, pay attention to the whole nutrient package and remember to select from a variety of protein sources to get all the other essential micronutrients. Protein Quality While protein is contained in a wide variety of foods, it differs in quality. High-quality protein contains all the essential amino acids in the proportions needed by the human body. The amino acid profile of different foods is therefore one component of protein quality.\n",
            " - Food PDCAAS* Milk protein 1.00 Egg white 1.00 Whey 1.00 Soy protein 1.00 Beef 0.92 Soybeans 0.91 Chickpeas 0.78 Fruits 0.76 Vegetables 0.73 Whole wheat 0.42 *1 is the highest rank, 0 is the lowest Protein Needs: Special Considerations Some groups may need to examine how to meet their protein needs more closely than others. We will take a closer look at the special protein considerations for vegetarians, the elderly, and athletes. Vegetarians and Vegans People who follow variations of the vegetarian diet and consume eggs and/or dairy products can meet their protein requirements by consuming adequate amounts of these foods. Vegetarians and vegans can also attain their recommended protein intakes if they give a little more attention to high-quality plant-based protein sources. However, when following a vegetarian diet, the amino acid lysine can be challenging to acquire. Grains, nuts, and seeds are lysine-poor foods, but tofu, soy, quinoa, and pistachios are all good Proteins, Diet, and Personal Choices | 417\n",
            " - Simply put, different protein sources differ in their additional components, so it is necessary to pay attention to the whole nutrient “package.”Protein-rich animal-based foods commonly have high amounts of B vitamins, vitamin E, iron, magnesium, and zinc. Seafood often contains healthy fats, and plant sources of protein contain a high amount of fiber. Some animal-based protein- rich foods have an unhealthy amount of saturated fat and cholesterol. When choosing your dietary sources of protein, take note of the other nutrients and also the non-nutrients, such as cholesterol, dyes, and preservatives, in order to make good selections that will benefit your health. For instance, a hamburger patty made from 80 percent lean meat contains 22 grams of protein, 5.7 grams of saturated fat, and 77 milligrams of cholesterol. A burger made from 95 percent lean meat also contains 22 grams of protein, but has 2.3 grams of saturated fat and 60 milligrams of cholesterol. A cup of boiled soybeans contains 29 grams of protein, 2.2 grams of saturated fat, and no cholesterol. For more comparisons of protein- rich foods, see Table 6.3 “Sources of Dietary Protein”. To find out the complete nutrient package of different foods, visit the US Department of Agriculture (USDA) Food Composition Databases. \n",
            "Please answer the following query: \n",
            "List down some foods which are high in protein\n",
            "\n",
            "Answer:\n",
            "\n"
          ]
        }
      ]
    }
  ]
}